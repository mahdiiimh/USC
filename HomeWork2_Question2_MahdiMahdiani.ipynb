{
 "cells": [
  {
   "cell_type": "markdown",
   "id": "1d319429",
   "metadata": {},
   "source": [
    "# HomeWork number Two\n",
    "## Machine Learning \n",
    "### Professor : Dr Rezvanian\n",
    "### Student : Mahdi Mahdiani 4021334041 \n",
    "#### Date :  Azar 1402 \n",
    "##### Question 2"
   ]
  },
  {
   "cell_type": "markdown",
   "id": "329f4bbd",
   "metadata": {},
   "source": [
    "## Install Jdatetime"
   ]
  },
  {
   "cell_type": "code",
   "execution_count": 3,
   "id": "385e5b37",
   "metadata": {},
   "outputs": [
    {
     "name": "stdout",
     "output_type": "stream",
     "text": [
      "Collecting jdatetime\n",
      "  Downloading jdatetime-4.1.1-py3-none-any.whl (13 kB)\n",
      "Installing collected packages: jdatetime\n",
      "Successfully installed jdatetime-4.1.1\n"
     ]
    }
   ],
   "source": [
    "!pip3 install jdatetime"
   ]
  },
  {
   "cell_type": "markdown",
   "id": "0ea08c78",
   "metadata": {},
   "source": [
    "## Import Libraries"
   ]
  },
  {
   "cell_type": "code",
   "execution_count": 862,
   "id": "8025e01f",
   "metadata": {},
   "outputs": [],
   "source": [
    "import pandas as pd\n",
    "import numpy as np\n",
    "from sklearn.model_selection import train_test_split\n",
    "from sklearn.metrics import precision_score, recall_score, f1_score, accuracy_score\n",
    "from sklearn import preprocessing\n",
    "from jdatetime import date\n",
    "from sklearn.model_selection import train_test_split\n",
    "from sklearn.svm import SVC\n",
    "from sklearn.tree import DecisionTreeClassifier\n",
    "from sklearn.naive_bayes import GaussianNB\n",
    "from sklearn.neighbors import KNeighborsClassifier\n",
    "from sklearn.linear_model import LinearRegression\n",
    "from sklearn.metrics import mean_squared_error, r2_score"
   ]
  },
  {
   "cell_type": "markdown",
   "id": "3eeaef12",
   "metadata": {},
   "source": [
    "## Read Data Sets "
   ]
  },
  {
   "cell_type": "code",
   "execution_count": 863,
   "id": "d07465de",
   "metadata": {},
   "outputs": [],
   "source": [
    "df1 = pd.read_excel('AED-USD-Jan_2015_Dec_2022.xlsx')\n",
    "df2 = pd.read_excel('Crude_Oil_Price-Jan_2015_Dec_2022.xlsx')\n",
    "df3 = pd.read_excel('EUR-USD-Jan_2015_Dec_2022.xlsx')\n",
    "df4 = pd.read_excel('Gold_Price-Jan_2015_Dec_2022.xlsx')\n",
    "df5 = pd.read_excel('Stock_Index_13940101_14010801.xlsx')\n",
    "df6 = pd.read_excel('USD-IRR-Nov-2011-December-2022.xlsx')"
   ]
  },
  {
   "cell_type": "markdown",
   "id": "48711d76",
   "metadata": {},
   "source": [
    "## EDA"
   ]
  },
  {
   "cell_type": "code",
   "execution_count": 864,
   "id": "fe2ee1fe",
   "metadata": {},
   "outputs": [
    {
     "data": {
      "text/html": [
       "<div>\n",
       "<style scoped>\n",
       "    .dataframe tbody tr th:only-of-type {\n",
       "        vertical-align: middle;\n",
       "    }\n",
       "\n",
       "    .dataframe tbody tr th {\n",
       "        vertical-align: top;\n",
       "    }\n",
       "\n",
       "    .dataframe thead th {\n",
       "        text-align: right;\n",
       "    }\n",
       "</style>\n",
       "<table border=\"1\" class=\"dataframe\">\n",
       "  <thead>\n",
       "    <tr style=\"text-align: right;\">\n",
       "      <th></th>\n",
       "      <th>Date</th>\n",
       "      <th>Open</th>\n",
       "      <th>High</th>\n",
       "      <th>Low</th>\n",
       "      <th>Close</th>\n",
       "      <th>Adj Close</th>\n",
       "      <th>Volume</th>\n",
       "    </tr>\n",
       "  </thead>\n",
       "  <tbody>\n",
       "    <tr>\n",
       "      <th>1129</th>\n",
       "      <td>2019-05-01</td>\n",
       "      <td>0.272316</td>\n",
       "      <td>0.272316</td>\n",
       "      <td>0.272264</td>\n",
       "      <td>0.272279</td>\n",
       "      <td>0.272279</td>\n",
       "      <td>0.0</td>\n",
       "    </tr>\n",
       "    <tr>\n",
       "      <th>459</th>\n",
       "      <td>2016-10-05</td>\n",
       "      <td>0.272324</td>\n",
       "      <td>0.272361</td>\n",
       "      <td>0.272264</td>\n",
       "      <td>0.272264</td>\n",
       "      <td>0.272264</td>\n",
       "      <td>0.0</td>\n",
       "    </tr>\n",
       "    <tr>\n",
       "      <th>1278</th>\n",
       "      <td>2019-11-26</td>\n",
       "      <td>0.272316</td>\n",
       "      <td>0.272346</td>\n",
       "      <td>0.272279</td>\n",
       "      <td>0.272316</td>\n",
       "      <td>0.272316</td>\n",
       "      <td>0.0</td>\n",
       "    </tr>\n",
       "    <tr>\n",
       "      <th>207</th>\n",
       "      <td>2015-10-19</td>\n",
       "      <td>0.272383</td>\n",
       "      <td>0.272390</td>\n",
       "      <td>0.272264</td>\n",
       "      <td>0.272331</td>\n",
       "      <td>0.272331</td>\n",
       "      <td>0.0</td>\n",
       "    </tr>\n",
       "    <tr>\n",
       "      <th>1531</th>\n",
       "      <td>2020-11-13</td>\n",
       "      <td>0.272316</td>\n",
       "      <td>0.272316</td>\n",
       "      <td>0.272264</td>\n",
       "      <td>0.272316</td>\n",
       "      <td>0.272316</td>\n",
       "      <td>0.0</td>\n",
       "    </tr>\n",
       "    <tr>\n",
       "      <th>555</th>\n",
       "      <td>2017-02-16</td>\n",
       "      <td>0.272339</td>\n",
       "      <td>0.272346</td>\n",
       "      <td>0.272264</td>\n",
       "      <td>0.272346</td>\n",
       "      <td>0.272346</td>\n",
       "      <td>0.0</td>\n",
       "    </tr>\n",
       "    <tr>\n",
       "      <th>1136</th>\n",
       "      <td>2019-05-10</td>\n",
       "      <td>0.272316</td>\n",
       "      <td>0.272331</td>\n",
       "      <td>0.272264</td>\n",
       "      <td>0.272316</td>\n",
       "      <td>0.272316</td>\n",
       "      <td>0.0</td>\n",
       "    </tr>\n",
       "  </tbody>\n",
       "</table>\n",
       "</div>"
      ],
      "text/plain": [
       "           Date      Open      High       Low     Close  Adj Close  Volume\n",
       "1129 2019-05-01  0.272316  0.272316  0.272264  0.272279   0.272279     0.0\n",
       "459  2016-10-05  0.272324  0.272361  0.272264  0.272264   0.272264     0.0\n",
       "1278 2019-11-26  0.272316  0.272346  0.272279  0.272316   0.272316     0.0\n",
       "207  2015-10-19  0.272383  0.272390  0.272264  0.272331   0.272331     0.0\n",
       "1531 2020-11-13  0.272316  0.272316  0.272264  0.272316   0.272316     0.0\n",
       "555  2017-02-16  0.272339  0.272346  0.272264  0.272346   0.272346     0.0\n",
       "1136 2019-05-10  0.272316  0.272331  0.272264  0.272316   0.272316     0.0"
      ]
     },
     "execution_count": 864,
     "metadata": {},
     "output_type": "execute_result"
    }
   ],
   "source": [
    "df1.sample(7)"
   ]
  },
  {
   "cell_type": "code",
   "execution_count": 865,
   "id": "46c321a6",
   "metadata": {},
   "outputs": [
    {
     "data": {
      "text/html": [
       "<div>\n",
       "<style scoped>\n",
       "    .dataframe tbody tr th:only-of-type {\n",
       "        vertical-align: middle;\n",
       "    }\n",
       "\n",
       "    .dataframe tbody tr th {\n",
       "        vertical-align: top;\n",
       "    }\n",
       "\n",
       "    .dataframe thead th {\n",
       "        text-align: right;\n",
       "    }\n",
       "</style>\n",
       "<table border=\"1\" class=\"dataframe\">\n",
       "  <thead>\n",
       "    <tr style=\"text-align: right;\">\n",
       "      <th></th>\n",
       "      <th>Date</th>\n",
       "      <th>Open</th>\n",
       "      <th>High</th>\n",
       "      <th>Low</th>\n",
       "      <th>Close*</th>\n",
       "      <th>Adj Close**</th>\n",
       "      <th>Volume</th>\n",
       "    </tr>\n",
       "  </thead>\n",
       "  <tbody>\n",
       "    <tr>\n",
       "      <th>927</th>\n",
       "      <td>2019-04-08</td>\n",
       "      <td>64.4</td>\n",
       "      <td>64.79</td>\n",
       "      <td>63.68</td>\n",
       "      <td>63.98</td>\n",
       "      <td>63.98</td>\n",
       "      <td>790677</td>\n",
       "    </tr>\n",
       "    <tr>\n",
       "      <th>1014</th>\n",
       "      <td>2018-11-30</td>\n",
       "      <td>51.27</td>\n",
       "      <td>51.79</td>\n",
       "      <td>49.65</td>\n",
       "      <td>50.93</td>\n",
       "      <td>50.93</td>\n",
       "      <td>796714</td>\n",
       "    </tr>\n",
       "    <tr>\n",
       "      <th>932</th>\n",
       "      <td>2019-04-01</td>\n",
       "      <td>61.81</td>\n",
       "      <td>62.75</td>\n",
       "      <td>61.6</td>\n",
       "      <td>62.58</td>\n",
       "      <td>62.58</td>\n",
       "      <td>793227</td>\n",
       "    </tr>\n",
       "    <tr>\n",
       "      <th>1639</th>\n",
       "      <td>2016-06-06</td>\n",
       "      <td>49.71</td>\n",
       "      <td>50.53</td>\n",
       "      <td>49.44</td>\n",
       "      <td>50.36</td>\n",
       "      <td>50.36</td>\n",
       "      <td>542254</td>\n",
       "    </tr>\n",
       "    <tr>\n",
       "      <th>5</th>\n",
       "      <td>2022-11-25</td>\n",
       "      <td>77.51</td>\n",
       "      <td>79.9</td>\n",
       "      <td>76.22</td>\n",
       "      <td>76.28</td>\n",
       "      <td>76.28</td>\n",
       "      <td>266451</td>\n",
       "    </tr>\n",
       "    <tr>\n",
       "      <th>1879</th>\n",
       "      <td>2015-06-25</td>\n",
       "      <td>59.66</td>\n",
       "      <td>59.96</td>\n",
       "      <td>58.76</td>\n",
       "      <td>59.63</td>\n",
       "      <td>59.63</td>\n",
       "      <td>231957</td>\n",
       "    </tr>\n",
       "    <tr>\n",
       "      <th>1023</th>\n",
       "      <td>2018-11-16</td>\n",
       "      <td>56.58</td>\n",
       "      <td>57.96</td>\n",
       "      <td>55.89</td>\n",
       "      <td>56.46</td>\n",
       "      <td>56.46</td>\n",
       "      <td>159001</td>\n",
       "    </tr>\n",
       "  </tbody>\n",
       "</table>\n",
       "</div>"
      ],
      "text/plain": [
       "           Date   Open   High    Low Close* Adj Close**  Volume\n",
       "927  2019-04-08   64.4  64.79  63.68  63.98       63.98  790677\n",
       "1014 2018-11-30  51.27  51.79  49.65  50.93       50.93  796714\n",
       "932  2019-04-01  61.81  62.75   61.6  62.58       62.58  793227\n",
       "1639 2016-06-06  49.71  50.53  49.44  50.36       50.36  542254\n",
       "5    2022-11-25  77.51   79.9  76.22  76.28       76.28  266451\n",
       "1879 2015-06-25  59.66  59.96  58.76  59.63       59.63  231957\n",
       "1023 2018-11-16  56.58  57.96  55.89  56.46       56.46  159001"
      ]
     },
     "execution_count": 865,
     "metadata": {},
     "output_type": "execute_result"
    }
   ],
   "source": [
    "df2.sample(7)"
   ]
  },
  {
   "cell_type": "code",
   "execution_count": 866,
   "id": "831839af",
   "metadata": {},
   "outputs": [
    {
     "data": {
      "text/html": [
       "<div>\n",
       "<style scoped>\n",
       "    .dataframe tbody tr th:only-of-type {\n",
       "        vertical-align: middle;\n",
       "    }\n",
       "\n",
       "    .dataframe tbody tr th {\n",
       "        vertical-align: top;\n",
       "    }\n",
       "\n",
       "    .dataframe thead th {\n",
       "        text-align: right;\n",
       "    }\n",
       "</style>\n",
       "<table border=\"1\" class=\"dataframe\">\n",
       "  <thead>\n",
       "    <tr style=\"text-align: right;\">\n",
       "      <th></th>\n",
       "      <th>Date</th>\n",
       "      <th>Open</th>\n",
       "      <th>High</th>\n",
       "      <th>Low</th>\n",
       "      <th>Close</th>\n",
       "      <th>Adj Close</th>\n",
       "      <th>Volume</th>\n",
       "    </tr>\n",
       "  </thead>\n",
       "  <tbody>\n",
       "    <tr>\n",
       "      <th>972</th>\n",
       "      <td>2018-09-24</td>\n",
       "      <td>1.175102</td>\n",
       "      <td>1.181502</td>\n",
       "      <td>1.172525</td>\n",
       "      <td>1.175102</td>\n",
       "      <td>1.175102</td>\n",
       "      <td>0.0</td>\n",
       "    </tr>\n",
       "    <tr>\n",
       "      <th>796</th>\n",
       "      <td>2018-01-19</td>\n",
       "      <td>1.223586</td>\n",
       "      <td>1.229483</td>\n",
       "      <td>1.222031</td>\n",
       "      <td>1.223661</td>\n",
       "      <td>1.223661</td>\n",
       "      <td>0.0</td>\n",
       "    </tr>\n",
       "    <tr>\n",
       "      <th>106</th>\n",
       "      <td>2015-05-29</td>\n",
       "      <td>1.095794</td>\n",
       "      <td>1.100350</td>\n",
       "      <td>1.092911</td>\n",
       "      <td>1.096035</td>\n",
       "      <td>1.096035</td>\n",
       "      <td>0.0</td>\n",
       "    </tr>\n",
       "    <tr>\n",
       "      <th>1995</th>\n",
       "      <td>2022-08-25</td>\n",
       "      <td>0.996910</td>\n",
       "      <td>1.003059</td>\n",
       "      <td>0.995679</td>\n",
       "      <td>0.996910</td>\n",
       "      <td>0.996910</td>\n",
       "      <td>0.0</td>\n",
       "    </tr>\n",
       "    <tr>\n",
       "      <th>427</th>\n",
       "      <td>2016-08-22</td>\n",
       "      <td>1.130071</td>\n",
       "      <td>1.133273</td>\n",
       "      <td>1.127396</td>\n",
       "      <td>1.129816</td>\n",
       "      <td>1.129816</td>\n",
       "      <td>0.0</td>\n",
       "    </tr>\n",
       "    <tr>\n",
       "      <th>720</th>\n",
       "      <td>2017-10-05</td>\n",
       "      <td>1.175696</td>\n",
       "      <td>1.177995</td>\n",
       "      <td>1.170385</td>\n",
       "      <td>1.175724</td>\n",
       "      <td>1.175724</td>\n",
       "      <td>0.0</td>\n",
       "    </tr>\n",
       "    <tr>\n",
       "      <th>824</th>\n",
       "      <td>2018-02-28</td>\n",
       "      <td>1.222210</td>\n",
       "      <td>1.224290</td>\n",
       "      <td>1.218918</td>\n",
       "      <td>1.223032</td>\n",
       "      <td>1.223032</td>\n",
       "      <td>0.0</td>\n",
       "    </tr>\n",
       "  </tbody>\n",
       "</table>\n",
       "</div>"
      ],
      "text/plain": [
       "           Date      Open      High       Low     Close  Adj Close  Volume\n",
       "972  2018-09-24  1.175102  1.181502  1.172525  1.175102   1.175102     0.0\n",
       "796  2018-01-19  1.223586  1.229483  1.222031  1.223661   1.223661     0.0\n",
       "106  2015-05-29  1.095794  1.100350  1.092911  1.096035   1.096035     0.0\n",
       "1995 2022-08-25  0.996910  1.003059  0.995679  0.996910   0.996910     0.0\n",
       "427  2016-08-22  1.130071  1.133273  1.127396  1.129816   1.129816     0.0\n",
       "720  2017-10-05  1.175696  1.177995  1.170385  1.175724   1.175724     0.0\n",
       "824  2018-02-28  1.222210  1.224290  1.218918  1.223032   1.223032     0.0"
      ]
     },
     "execution_count": 866,
     "metadata": {},
     "output_type": "execute_result"
    }
   ],
   "source": [
    "df3.sample(7)"
   ]
  },
  {
   "cell_type": "code",
   "execution_count": 867,
   "id": "84e61c08",
   "metadata": {},
   "outputs": [
    {
     "data": {
      "text/html": [
       "<div>\n",
       "<style scoped>\n",
       "    .dataframe tbody tr th:only-of-type {\n",
       "        vertical-align: middle;\n",
       "    }\n",
       "\n",
       "    .dataframe tbody tr th {\n",
       "        vertical-align: top;\n",
       "    }\n",
       "\n",
       "    .dataframe thead th {\n",
       "        text-align: right;\n",
       "    }\n",
       "</style>\n",
       "<table border=\"1\" class=\"dataframe\">\n",
       "  <thead>\n",
       "    <tr style=\"text-align: right;\">\n",
       "      <th></th>\n",
       "      <th>Date</th>\n",
       "      <th>Open</th>\n",
       "      <th>High</th>\n",
       "      <th>Low</th>\n",
       "      <th>Close*</th>\n",
       "      <th>Adj Close**</th>\n",
       "      <th>Volume</th>\n",
       "    </tr>\n",
       "  </thead>\n",
       "  <tbody>\n",
       "    <tr>\n",
       "      <th>1361</th>\n",
       "      <td>2017-07-17</td>\n",
       "      <td>1236.2</td>\n",
       "      <td>1241.2</td>\n",
       "      <td>1236.2</td>\n",
       "      <td>1241.1</td>\n",
       "      <td>1241.1</td>\n",
       "      <td>29</td>\n",
       "    </tr>\n",
       "  </tbody>\n",
       "</table>\n",
       "</div>"
      ],
      "text/plain": [
       "           Date    Open    High     Low  Close* Adj Close** Volume\n",
       "1361 2017-07-17  1236.2  1241.2  1236.2  1241.1      1241.1     29"
      ]
     },
     "execution_count": 867,
     "metadata": {},
     "output_type": "execute_result"
    }
   ],
   "source": [
    "df4.sample()"
   ]
  },
  {
   "cell_type": "code",
   "execution_count": 868,
   "id": "aa79247e",
   "metadata": {},
   "outputs": [
    {
     "data": {
      "text/html": [
       "<div>\n",
       "<style scoped>\n",
       "    .dataframe tbody tr th:only-of-type {\n",
       "        vertical-align: middle;\n",
       "    }\n",
       "\n",
       "    .dataframe tbody tr th {\n",
       "        vertical-align: top;\n",
       "    }\n",
       "\n",
       "    .dataframe thead th {\n",
       "        text-align: right;\n",
       "    }\n",
       "</style>\n",
       "<table border=\"1\" class=\"dataframe\">\n",
       "  <thead>\n",
       "    <tr style=\"text-align: right;\">\n",
       "      <th></th>\n",
       "      <th>name</th>\n",
       "      <th>dateissue</th>\n",
       "      <th>Value</th>\n",
       "    </tr>\n",
       "  </thead>\n",
       "  <tbody>\n",
       "    <tr>\n",
       "      <th>1231</th>\n",
       "      <td>شاخص</td>\n",
       "      <td>13960620</td>\n",
       "      <td>83369.1</td>\n",
       "    </tr>\n",
       "  </tbody>\n",
       "</table>\n",
       "</div>"
      ],
      "text/plain": [
       "      name  dateissue    Value\n",
       "1231  شاخص   13960620  83369.1"
      ]
     },
     "execution_count": 868,
     "metadata": {},
     "output_type": "execute_result"
    }
   ],
   "source": [
    "df5.sample()"
   ]
  },
  {
   "cell_type": "code",
   "execution_count": 869,
   "id": "fc17ff46",
   "metadata": {},
   "outputs": [
    {
     "data": {
      "text/html": [
       "<div>\n",
       "<style scoped>\n",
       "    .dataframe tbody tr th:only-of-type {\n",
       "        vertical-align: middle;\n",
       "    }\n",
       "\n",
       "    .dataframe tbody tr th {\n",
       "        vertical-align: top;\n",
       "    }\n",
       "\n",
       "    .dataframe thead th {\n",
       "        text-align: right;\n",
       "    }\n",
       "</style>\n",
       "<table border=\"1\" class=\"dataframe\">\n",
       "  <thead>\n",
       "    <tr style=\"text-align: right;\">\n",
       "      <th></th>\n",
       "      <th>gregorian calendar dates</th>\n",
       "      <th>persian calander dates</th>\n",
       "      <th>first price recorded on the day</th>\n",
       "      <th>lowest price recorded on the day</th>\n",
       "      <th>highest price recorded during the day</th>\n",
       "      <th>last price recorded on the day</th>\n",
       "    </tr>\n",
       "  </thead>\n",
       "  <tbody>\n",
       "    <tr>\n",
       "      <th>3146</th>\n",
       "      <td>2022-11-20</td>\n",
       "      <td>1401/08/29</td>\n",
       "      <td>348240</td>\n",
       "      <td>348160</td>\n",
       "      <td>352700</td>\n",
       "      <td>351600</td>\n",
       "    </tr>\n",
       "  </tbody>\n",
       "</table>\n",
       "</div>"
      ],
      "text/plain": [
       "     gregorian calendar dates persian calander dates  \\\n",
       "3146               2022-11-20             1401/08/29   \n",
       "\n",
       "      first price recorded on the day  lowest price recorded on the day  \\\n",
       "3146                           348240                            348160   \n",
       "\n",
       "      highest price recorded during the day  last price recorded on the day  \n",
       "3146                                 352700                          351600  "
      ]
     },
     "execution_count": 869,
     "metadata": {},
     "output_type": "execute_result"
    }
   ],
   "source": [
    "df6.sample()"
   ]
  },
  {
   "cell_type": "code",
   "execution_count": 870,
   "id": "fd031ede",
   "metadata": {},
   "outputs": [],
   "source": [
    "data = []\n",
    "for row in df5['dateissue']:\n",
    "    \n",
    "    if (str(row)).isdigit() and len(str(row)) == 8:\n",
    "        year = int(str(row)[:4])\n",
    "        month = int(str(row)[4:6])\n",
    "        day = int(str(row)[6:])\n",
    "        \n",
    "        gregorian_date = jdatetime.date(year, month, day).togregorian()\n",
    "        data.append(gregorian_date.strftime('%Y-%m-%d'))"
   ]
  },
  {
   "cell_type": "code",
   "execution_count": 871,
   "id": "745907f1",
   "metadata": {},
   "outputs": [
    {
     "data": {
      "text/html": [
       "<div>\n",
       "<style scoped>\n",
       "    .dataframe tbody tr th:only-of-type {\n",
       "        vertical-align: middle;\n",
       "    }\n",
       "\n",
       "    .dataframe tbody tr th {\n",
       "        vertical-align: top;\n",
       "    }\n",
       "\n",
       "    .dataframe thead th {\n",
       "        text-align: right;\n",
       "    }\n",
       "</style>\n",
       "<table border=\"1\" class=\"dataframe\">\n",
       "  <thead>\n",
       "    <tr style=\"text-align: right;\">\n",
       "      <th></th>\n",
       "      <th>name</th>\n",
       "      <th>dateissue</th>\n",
       "      <th>Value</th>\n",
       "    </tr>\n",
       "  </thead>\n",
       "  <tbody>\n",
       "    <tr>\n",
       "      <th>0</th>\n",
       "      <td>شاخص</td>\n",
       "      <td>14010801</td>\n",
       "      <td>1296797.8</td>\n",
       "    </tr>\n",
       "    <tr>\n",
       "      <th>1</th>\n",
       "      <td>شاخص</td>\n",
       "      <td>14010730</td>\n",
       "      <td>1308960.0</td>\n",
       "    </tr>\n",
       "    <tr>\n",
       "      <th>2</th>\n",
       "      <td>شاخص</td>\n",
       "      <td>14010727</td>\n",
       "      <td>1310165.9</td>\n",
       "    </tr>\n",
       "    <tr>\n",
       "      <th>3</th>\n",
       "      <td>شاخص</td>\n",
       "      <td>14010726</td>\n",
       "      <td>1312563.2</td>\n",
       "    </tr>\n",
       "    <tr>\n",
       "      <th>4</th>\n",
       "      <td>شاخص</td>\n",
       "      <td>14010725</td>\n",
       "      <td>1311109.9</td>\n",
       "    </tr>\n",
       "    <tr>\n",
       "      <th>...</th>\n",
       "      <td>...</td>\n",
       "      <td>...</td>\n",
       "      <td>...</td>\n",
       "    </tr>\n",
       "    <tr>\n",
       "      <th>1825</th>\n",
       "      <td>شاخص</td>\n",
       "      <td>13940111</td>\n",
       "      <td>65728.0</td>\n",
       "    </tr>\n",
       "    <tr>\n",
       "      <th>1826</th>\n",
       "      <td>شاخص</td>\n",
       "      <td>13940110</td>\n",
       "      <td>65175.1</td>\n",
       "    </tr>\n",
       "    <tr>\n",
       "      <th>1827</th>\n",
       "      <td>شاخص</td>\n",
       "      <td>13940109</td>\n",
       "      <td>65099.9</td>\n",
       "    </tr>\n",
       "    <tr>\n",
       "      <th>1828</th>\n",
       "      <td>شاخص</td>\n",
       "      <td>13940108</td>\n",
       "      <td>63625.5</td>\n",
       "    </tr>\n",
       "    <tr>\n",
       "      <th>1829</th>\n",
       "      <td>شاخص</td>\n",
       "      <td>13940105</td>\n",
       "      <td>62885.0</td>\n",
       "    </tr>\n",
       "  </tbody>\n",
       "</table>\n",
       "<p>1830 rows × 3 columns</p>\n",
       "</div>"
      ],
      "text/plain": [
       "      name  dateissue      Value\n",
       "0     شاخص   14010801  1296797.8\n",
       "1     شاخص   14010730  1308960.0\n",
       "2     شاخص   14010727  1310165.9\n",
       "3     شاخص   14010726  1312563.2\n",
       "4     شاخص   14010725  1311109.9\n",
       "...    ...        ...        ...\n",
       "1825  شاخص   13940111    65728.0\n",
       "1826  شاخص   13940110    65175.1\n",
       "1827  شاخص   13940109    65099.9\n",
       "1828  شاخص   13940108    63625.5\n",
       "1829  شاخص   13940105    62885.0\n",
       "\n",
       "[1830 rows x 3 columns]"
      ]
     },
     "execution_count": 871,
     "metadata": {},
     "output_type": "execute_result"
    }
   ],
   "source": [
    "df5"
   ]
  },
  {
   "cell_type": "code",
   "execution_count": 872,
   "id": "8b684da4",
   "metadata": {},
   "outputs": [],
   "source": [
    "df1['Date'] = pd.to_datetime(df1['Date'])\n",
    "df2['Date'] = pd.to_datetime(df2['Date'])\n",
    "df3['Date'] = pd.to_datetime(df3['Date'])\n",
    "df4['Date'] = pd.to_datetime(df4['Date'])\n",
    "df5['Date'] = pd.to_datetime(data)\n",
    "df6['Date'] = pd.to_datetime(df6['gregorian calendar dates'])"
   ]
  },
  {
   "cell_type": "code",
   "execution_count": 873,
   "id": "2368275a",
   "metadata": {
    "scrolled": true
   },
   "outputs": [
    {
     "data": {
      "text/html": [
       "<div>\n",
       "<style scoped>\n",
       "    .dataframe tbody tr th:only-of-type {\n",
       "        vertical-align: middle;\n",
       "    }\n",
       "\n",
       "    .dataframe tbody tr th {\n",
       "        vertical-align: top;\n",
       "    }\n",
       "\n",
       "    .dataframe thead th {\n",
       "        text-align: right;\n",
       "    }\n",
       "</style>\n",
       "<table border=\"1\" class=\"dataframe\">\n",
       "  <thead>\n",
       "    <tr style=\"text-align: right;\">\n",
       "      <th></th>\n",
       "      <th>name</th>\n",
       "      <th>dateissue</th>\n",
       "      <th>Value</th>\n",
       "      <th>Date</th>\n",
       "    </tr>\n",
       "  </thead>\n",
       "  <tbody>\n",
       "    <tr>\n",
       "      <th>0</th>\n",
       "      <td>شاخص</td>\n",
       "      <td>14010801</td>\n",
       "      <td>1296797.8</td>\n",
       "      <td>2022-10-23</td>\n",
       "    </tr>\n",
       "    <tr>\n",
       "      <th>1</th>\n",
       "      <td>شاخص</td>\n",
       "      <td>14010730</td>\n",
       "      <td>1308960.0</td>\n",
       "      <td>2022-10-22</td>\n",
       "    </tr>\n",
       "    <tr>\n",
       "      <th>2</th>\n",
       "      <td>شاخص</td>\n",
       "      <td>14010727</td>\n",
       "      <td>1310165.9</td>\n",
       "      <td>2022-10-19</td>\n",
       "    </tr>\n",
       "    <tr>\n",
       "      <th>3</th>\n",
       "      <td>شاخص</td>\n",
       "      <td>14010726</td>\n",
       "      <td>1312563.2</td>\n",
       "      <td>2022-10-18</td>\n",
       "    </tr>\n",
       "    <tr>\n",
       "      <th>4</th>\n",
       "      <td>شاخص</td>\n",
       "      <td>14010725</td>\n",
       "      <td>1311109.9</td>\n",
       "      <td>2022-10-17</td>\n",
       "    </tr>\n",
       "    <tr>\n",
       "      <th>...</th>\n",
       "      <td>...</td>\n",
       "      <td>...</td>\n",
       "      <td>...</td>\n",
       "      <td>...</td>\n",
       "    </tr>\n",
       "    <tr>\n",
       "      <th>1825</th>\n",
       "      <td>شاخص</td>\n",
       "      <td>13940111</td>\n",
       "      <td>65728.0</td>\n",
       "      <td>2015-03-31</td>\n",
       "    </tr>\n",
       "    <tr>\n",
       "      <th>1826</th>\n",
       "      <td>شاخص</td>\n",
       "      <td>13940110</td>\n",
       "      <td>65175.1</td>\n",
       "      <td>2015-03-30</td>\n",
       "    </tr>\n",
       "    <tr>\n",
       "      <th>1827</th>\n",
       "      <td>شاخص</td>\n",
       "      <td>13940109</td>\n",
       "      <td>65099.9</td>\n",
       "      <td>2015-03-29</td>\n",
       "    </tr>\n",
       "    <tr>\n",
       "      <th>1828</th>\n",
       "      <td>شاخص</td>\n",
       "      <td>13940108</td>\n",
       "      <td>63625.5</td>\n",
       "      <td>2015-03-28</td>\n",
       "    </tr>\n",
       "    <tr>\n",
       "      <th>1829</th>\n",
       "      <td>شاخص</td>\n",
       "      <td>13940105</td>\n",
       "      <td>62885.0</td>\n",
       "      <td>2015-03-25</td>\n",
       "    </tr>\n",
       "  </tbody>\n",
       "</table>\n",
       "<p>1830 rows × 4 columns</p>\n",
       "</div>"
      ],
      "text/plain": [
       "      name  dateissue      Value       Date\n",
       "0     شاخص   14010801  1296797.8 2022-10-23\n",
       "1     شاخص   14010730  1308960.0 2022-10-22\n",
       "2     شاخص   14010727  1310165.9 2022-10-19\n",
       "3     شاخص   14010726  1312563.2 2022-10-18\n",
       "4     شاخص   14010725  1311109.9 2022-10-17\n",
       "...    ...        ...        ...        ...\n",
       "1825  شاخص   13940111    65728.0 2015-03-31\n",
       "1826  شاخص   13940110    65175.1 2015-03-30\n",
       "1827  شاخص   13940109    65099.9 2015-03-29\n",
       "1828  شاخص   13940108    63625.5 2015-03-28\n",
       "1829  شاخص   13940105    62885.0 2015-03-25\n",
       "\n",
       "[1830 rows x 4 columns]"
      ]
     },
     "execution_count": 873,
     "metadata": {},
     "output_type": "execute_result"
    }
   ],
   "source": [
    "df5"
   ]
  },
  {
   "cell_type": "markdown",
   "id": "a38c4f79",
   "metadata": {},
   "source": [
    "## Some Preprocessing "
   ]
  },
  {
   "cell_type": "markdown",
   "id": "d05e5422",
   "metadata": {},
   "source": [
    "### Checking For null data and fill them with mean "
   ]
  },
  {
   "cell_type": "code",
   "execution_count": 874,
   "id": "ae8d44b8",
   "metadata": {},
   "outputs": [
    {
     "data": {
      "text/plain": [
       "Date         0\n",
       "Open         2\n",
       "High         2\n",
       "Low          2\n",
       "Close        2\n",
       "Adj Close    2\n",
       "Volume       2\n",
       "dtype: int64"
      ]
     },
     "execution_count": 874,
     "metadata": {},
     "output_type": "execute_result"
    }
   ],
   "source": [
    "df1.isnull().sum()"
   ]
  },
  {
   "cell_type": "code",
   "execution_count": 875,
   "id": "8f53c2c6",
   "metadata": {},
   "outputs": [
    {
     "name": "stderr",
     "output_type": "stream",
     "text": [
      "/var/folders/r9/sv2l0znj5xbg1cbcvnh09h4c0000gn/T/ipykernel_25381/2203842713.py:1: FutureWarning: DataFrame.mean and DataFrame.median with numeric_only=None will include datetime64 and datetime64tz columns in a future version.\n",
      "  df1 = df1.fillna(df1.mean())\n"
     ]
    }
   ],
   "source": [
    "df1 = df1.fillna(df1.mean())"
   ]
  },
  {
   "cell_type": "code",
   "execution_count": 876,
   "id": "30b12bbd",
   "metadata": {},
   "outputs": [
    {
     "data": {
      "text/plain": [
       "Date         0\n",
       "Open         0\n",
       "High         0\n",
       "Low          0\n",
       "Close        0\n",
       "Adj Close    0\n",
       "Volume       0\n",
       "dtype: int64"
      ]
     },
     "execution_count": 876,
     "metadata": {},
     "output_type": "execute_result"
    }
   ],
   "source": [
    "df1.isnull().sum()"
   ]
  },
  {
   "cell_type": "code",
   "execution_count": 877,
   "id": "78ab4ad4",
   "metadata": {},
   "outputs": [
    {
     "data": {
      "text/plain": [
       "Date           0\n",
       "Open           0\n",
       "High           0\n",
       "Low            0\n",
       "Close*         0\n",
       "Adj Close**    0\n",
       "Volume         0\n",
       "dtype: int64"
      ]
     },
     "execution_count": 877,
     "metadata": {},
     "output_type": "execute_result"
    }
   ],
   "source": [
    "df2.isnull().sum()"
   ]
  },
  {
   "cell_type": "code",
   "execution_count": 878,
   "id": "72f95e69",
   "metadata": {},
   "outputs": [
    {
     "data": {
      "text/plain": [
       "Date         0\n",
       "Open         3\n",
       "High         3\n",
       "Low          3\n",
       "Close        3\n",
       "Adj Close    3\n",
       "Volume       3\n",
       "dtype: int64"
      ]
     },
     "execution_count": 878,
     "metadata": {},
     "output_type": "execute_result"
    }
   ],
   "source": [
    "df3.isnull().sum()"
   ]
  },
  {
   "cell_type": "code",
   "execution_count": 879,
   "id": "46b3c8e2",
   "metadata": {},
   "outputs": [
    {
     "name": "stderr",
     "output_type": "stream",
     "text": [
      "/var/folders/r9/sv2l0znj5xbg1cbcvnh09h4c0000gn/T/ipykernel_25381/1387534836.py:1: FutureWarning: DataFrame.mean and DataFrame.median with numeric_only=None will include datetime64 and datetime64tz columns in a future version.\n",
      "  df3 = df3.fillna(df3.mean())\n"
     ]
    }
   ],
   "source": [
    "df3 = df3.fillna(df3.mean())"
   ]
  },
  {
   "cell_type": "code",
   "execution_count": 880,
   "id": "8db7823c",
   "metadata": {},
   "outputs": [
    {
     "data": {
      "text/plain": [
       "Date         0\n",
       "Open         0\n",
       "High         0\n",
       "Low          0\n",
       "Close        0\n",
       "Adj Close    0\n",
       "Volume       0\n",
       "dtype: int64"
      ]
     },
     "execution_count": 880,
     "metadata": {},
     "output_type": "execute_result"
    }
   ],
   "source": [
    "df3.isnull().sum()"
   ]
  },
  {
   "cell_type": "code",
   "execution_count": 881,
   "id": "214c1e1f",
   "metadata": {},
   "outputs": [
    {
     "data": {
      "text/plain": [
       "Date           0\n",
       "Open           0\n",
       "High           0\n",
       "Low            0\n",
       "Close*         0\n",
       "Adj Close**    0\n",
       "Volume         0\n",
       "dtype: int64"
      ]
     },
     "execution_count": 881,
     "metadata": {},
     "output_type": "execute_result"
    }
   ],
   "source": [
    "df4.isnull().sum()"
   ]
  },
  {
   "cell_type": "code",
   "execution_count": 882,
   "id": "0a50e7f2",
   "metadata": {},
   "outputs": [
    {
     "data": {
      "text/plain": [
       "name         0\n",
       "dateissue    0\n",
       "Value        0\n",
       "Date         0\n",
       "dtype: int64"
      ]
     },
     "execution_count": 882,
     "metadata": {},
     "output_type": "execute_result"
    }
   ],
   "source": [
    "df5.isnull().sum()"
   ]
  },
  {
   "cell_type": "code",
   "execution_count": 883,
   "id": "2a73e337",
   "metadata": {},
   "outputs": [
    {
     "data": {
      "text/plain": [
       "gregorian calendar dates                 0\n",
       "persian calander dates                   0\n",
       "first price recorded on the day          0\n",
       "lowest price recorded on the day         0\n",
       "highest price recorded during the day    0\n",
       "last price recorded on the day           0\n",
       "Date                                     0\n",
       "dtype: int64"
      ]
     },
     "execution_count": 883,
     "metadata": {},
     "output_type": "execute_result"
    }
   ],
   "source": [
    "df6.isnull().sum()"
   ]
  },
  {
   "cell_type": "markdown",
   "id": "75c7674b",
   "metadata": {},
   "source": [
    "## Cleaning Data"
   ]
  },
  {
   "cell_type": "markdown",
   "id": "93e07bc3",
   "metadata": {},
   "source": [
    "### Drop Useless Columns"
   ]
  },
  {
   "cell_type": "code",
   "execution_count": 884,
   "id": "03aa0757",
   "metadata": {},
   "outputs": [],
   "source": [
    "df6.drop(['persian calander dates','gregorian calendar dates'],axis=1,inplace=True)"
   ]
  },
  {
   "cell_type": "code",
   "execution_count": 885,
   "id": "f4d47c0f",
   "metadata": {},
   "outputs": [],
   "source": [
    "df1.drop([\"Volume\"],axis=1,inplace=True) # ALL VOLUME IS 0"
   ]
  },
  {
   "cell_type": "code",
   "execution_count": 886,
   "id": "22c2a11c",
   "metadata": {},
   "outputs": [],
   "source": [
    "df3.drop([\"Volume\"],axis=1,inplace=True) # ALL VOLUME IS 0"
   ]
  },
  {
   "cell_type": "code",
   "execution_count": 887,
   "id": "3989b8a9",
   "metadata": {},
   "outputs": [
    {
     "data": {
      "text/plain": [
       "شاخص    1830\n",
       "Name: name, dtype: int64"
      ]
     },
     "execution_count": 887,
     "metadata": {},
     "output_type": "execute_result"
    }
   ],
   "source": [
    "df5.name.value_counts()"
   ]
  },
  {
   "cell_type": "markdown",
   "id": "b6f4a33f",
   "metadata": {},
   "source": [
    "## Rename Some Columns "
   ]
  },
  {
   "cell_type": "code",
   "execution_count": 888,
   "id": "8528cb81",
   "metadata": {},
   "outputs": [],
   "source": [
    "df2 = df2.rename(columns={'Close*':'Close'})\n",
    "df2 = df2.rename(columns={'Adj Close**':'Adj Close'})\n",
    "\n",
    "df4 = df4.rename(columns={'Close*':'Close'})\n",
    "df4 = df4.rename(columns={'Adj Close**':'Adj Close'})"
   ]
  },
  {
   "cell_type": "markdown",
   "id": "9ac74f7d",
   "metadata": {},
   "source": [
    "## Calculate Contrast Percent "
   ]
  },
  {
   "cell_type": "code",
   "execution_count": 889,
   "id": "5907917e",
   "metadata": {},
   "outputs": [],
   "source": [
    "df6['PercentageChange'] = df6['last price recorded on the day'].pct_change() * 100"
   ]
  },
  {
   "cell_type": "markdown",
   "id": "2ff58aa1",
   "metadata": {},
   "source": [
    "## Labling Changes to 1,0,-1"
   ]
  },
  {
   "cell_type": "code",
   "execution_count": 890,
   "id": "1461d590",
   "metadata": {},
   "outputs": [],
   "source": [
    "def changes_encoding(percentage_change):\n",
    "    if pd.isna(percentage_change):\n",
    "        return 0  # If there is no previous value, consider it as no change\n",
    "    elif percentage_change > 0:\n",
    "        return 1  # Positive change\n",
    "    elif percentage_change < 0:\n",
    "        return -1  # Negative change\n",
    "    else:\n",
    "        return 0  # No change"
   ]
  },
  {
   "cell_type": "code",
   "execution_count": 891,
   "id": "c5ccad29",
   "metadata": {},
   "outputs": [],
   "source": [
    "df6['Label'] = df6['PercentageChange'].apply(changes_encoding)"
   ]
  },
  {
   "cell_type": "code",
   "execution_count": 892,
   "id": "cb73cfe4",
   "metadata": {},
   "outputs": [
    {
     "data": {
      "text/html": [
       "<div>\n",
       "<style scoped>\n",
       "    .dataframe tbody tr th:only-of-type {\n",
       "        vertical-align: middle;\n",
       "    }\n",
       "\n",
       "    .dataframe tbody tr th {\n",
       "        vertical-align: top;\n",
       "    }\n",
       "\n",
       "    .dataframe thead th {\n",
       "        text-align: right;\n",
       "    }\n",
       "</style>\n",
       "<table border=\"1\" class=\"dataframe\">\n",
       "  <thead>\n",
       "    <tr style=\"text-align: right;\">\n",
       "      <th></th>\n",
       "      <th>first price recorded on the day</th>\n",
       "      <th>lowest price recorded on the day</th>\n",
       "      <th>highest price recorded during the day</th>\n",
       "      <th>last price recorded on the day</th>\n",
       "      <th>Date</th>\n",
       "      <th>PercentageChange</th>\n",
       "      <th>Label</th>\n",
       "    </tr>\n",
       "  </thead>\n",
       "  <tbody>\n",
       "    <tr>\n",
       "      <th>3155</th>\n",
       "      <td>353850</td>\n",
       "      <td>352610</td>\n",
       "      <td>354500</td>\n",
       "      <td>354500</td>\n",
       "      <td>2022-11-30</td>\n",
       "      <td>0.000000</td>\n",
       "      <td>0</td>\n",
       "    </tr>\n",
       "    <tr>\n",
       "      <th>3156</th>\n",
       "      <td>351970</td>\n",
       "      <td>351770</td>\n",
       "      <td>356950</td>\n",
       "      <td>356950</td>\n",
       "      <td>2022-12-01</td>\n",
       "      <td>0.691114</td>\n",
       "      <td>1</td>\n",
       "    </tr>\n",
       "    <tr>\n",
       "      <th>3157</th>\n",
       "      <td>354670</td>\n",
       "      <td>354020</td>\n",
       "      <td>357240</td>\n",
       "      <td>357240</td>\n",
       "      <td>2022-12-03</td>\n",
       "      <td>0.081244</td>\n",
       "      <td>1</td>\n",
       "    </tr>\n",
       "    <tr>\n",
       "      <th>3158</th>\n",
       "      <td>357350</td>\n",
       "      <td>356300</td>\n",
       "      <td>357500</td>\n",
       "      <td>357500</td>\n",
       "      <td>2022-12-04</td>\n",
       "      <td>0.072780</td>\n",
       "      <td>1</td>\n",
       "    </tr>\n",
       "    <tr>\n",
       "      <th>3159</th>\n",
       "      <td>359520</td>\n",
       "      <td>356120</td>\n",
       "      <td>362810</td>\n",
       "      <td>359090</td>\n",
       "      <td>2022-12-05</td>\n",
       "      <td>0.444755</td>\n",
       "      <td>1</td>\n",
       "    </tr>\n",
       "  </tbody>\n",
       "</table>\n",
       "</div>"
      ],
      "text/plain": [
       "      first price recorded on the day  lowest price recorded on the day  \\\n",
       "3155                           353850                            352610   \n",
       "3156                           351970                            351770   \n",
       "3157                           354670                            354020   \n",
       "3158                           357350                            356300   \n",
       "3159                           359520                            356120   \n",
       "\n",
       "      highest price recorded during the day  last price recorded on the day  \\\n",
       "3155                                 354500                          354500   \n",
       "3156                                 356950                          356950   \n",
       "3157                                 357240                          357240   \n",
       "3158                                 357500                          357500   \n",
       "3159                                 362810                          359090   \n",
       "\n",
       "           Date  PercentageChange  Label  \n",
       "3155 2022-11-30          0.000000      0  \n",
       "3156 2022-12-01          0.691114      1  \n",
       "3157 2022-12-03          0.081244      1  \n",
       "3158 2022-12-04          0.072780      1  \n",
       "3159 2022-12-05          0.444755      1  "
      ]
     },
     "execution_count": 892,
     "metadata": {},
     "output_type": "execute_result"
    }
   ],
   "source": [
    "df6.tail()"
   ]
  },
  {
   "cell_type": "code",
   "execution_count": 893,
   "id": "8cefd027",
   "metadata": {},
   "outputs": [
    {
     "data": {
      "text/html": [
       "<div>\n",
       "<style scoped>\n",
       "    .dataframe tbody tr th:only-of-type {\n",
       "        vertical-align: middle;\n",
       "    }\n",
       "\n",
       "    .dataframe tbody tr th {\n",
       "        vertical-align: top;\n",
       "    }\n",
       "\n",
       "    .dataframe thead th {\n",
       "        text-align: right;\n",
       "    }\n",
       "</style>\n",
       "<table border=\"1\" class=\"dataframe\">\n",
       "  <thead>\n",
       "    <tr style=\"text-align: right;\">\n",
       "      <th></th>\n",
       "      <th>Date</th>\n",
       "      <th>Open</th>\n",
       "      <th>High</th>\n",
       "      <th>Low</th>\n",
       "      <th>Close</th>\n",
       "      <th>Adj Close</th>\n",
       "      <th>Volume</th>\n",
       "    </tr>\n",
       "  </thead>\n",
       "  <tbody>\n",
       "    <tr>\n",
       "      <th>0</th>\n",
       "      <td>2022-12-02</td>\n",
       "      <td>81.47</td>\n",
       "      <td>82.22</td>\n",
       "      <td>79.65</td>\n",
       "      <td>79.98</td>\n",
       "      <td>79.98</td>\n",
       "      <td>321432</td>\n",
       "    </tr>\n",
       "    <tr>\n",
       "      <th>1</th>\n",
       "      <td>2022-12-01</td>\n",
       "      <td>80.4</td>\n",
       "      <td>83.34</td>\n",
       "      <td>79.93</td>\n",
       "      <td>81.22</td>\n",
       "      <td>81.22</td>\n",
       "      <td>321432</td>\n",
       "    </tr>\n",
       "    <tr>\n",
       "      <th>2</th>\n",
       "      <td>2022-11-30</td>\n",
       "      <td>79</td>\n",
       "      <td>81.38</td>\n",
       "      <td>78.4</td>\n",
       "      <td>80.55</td>\n",
       "      <td>80.55</td>\n",
       "      <td>287534</td>\n",
       "    </tr>\n",
       "    <tr>\n",
       "      <th>3</th>\n",
       "      <td>2022-11-29</td>\n",
       "      <td>76.54</td>\n",
       "      <td>79.65</td>\n",
       "      <td>76.29</td>\n",
       "      <td>78.2</td>\n",
       "      <td>78.2</td>\n",
       "      <td>381869</td>\n",
       "    </tr>\n",
       "    <tr>\n",
       "      <th>4</th>\n",
       "      <td>2022-11-28</td>\n",
       "      <td>75.93</td>\n",
       "      <td>77.84</td>\n",
       "      <td>73.6</td>\n",
       "      <td>77.24</td>\n",
       "      <td>77.24</td>\n",
       "      <td>405033</td>\n",
       "    </tr>\n",
       "    <tr>\n",
       "      <th>...</th>\n",
       "      <td>...</td>\n",
       "      <td>...</td>\n",
       "      <td>...</td>\n",
       "      <td>...</td>\n",
       "      <td>...</td>\n",
       "      <td>...</td>\n",
       "      <td>...</td>\n",
       "    </tr>\n",
       "    <tr>\n",
       "      <th>1996</th>\n",
       "      <td>2015-01-08</td>\n",
       "      <td>48.78</td>\n",
       "      <td>49.65</td>\n",
       "      <td>47.73</td>\n",
       "      <td>48.79</td>\n",
       "      <td>48.79</td>\n",
       "      <td>362081</td>\n",
       "    </tr>\n",
       "    <tr>\n",
       "      <th>1997</th>\n",
       "      <td>2015-01-07</td>\n",
       "      <td>48</td>\n",
       "      <td>49.31</td>\n",
       "      <td>46.83</td>\n",
       "      <td>48.65</td>\n",
       "      <td>48.65</td>\n",
       "      <td>460083</td>\n",
       "    </tr>\n",
       "    <tr>\n",
       "      <th>1998</th>\n",
       "      <td>2015-01-06</td>\n",
       "      <td>50</td>\n",
       "      <td>50.37</td>\n",
       "      <td>47.55</td>\n",
       "      <td>47.93</td>\n",
       "      <td>47.93</td>\n",
       "      <td>451642</td>\n",
       "    </tr>\n",
       "    <tr>\n",
       "      <th>1999</th>\n",
       "      <td>2015-01-05</td>\n",
       "      <td>52.61</td>\n",
       "      <td>52.73</td>\n",
       "      <td>49.68</td>\n",
       "      <td>50.04</td>\n",
       "      <td>50.04</td>\n",
       "      <td>375782</td>\n",
       "    </tr>\n",
       "    <tr>\n",
       "      <th>2000</th>\n",
       "      <td>2015-01-02</td>\n",
       "      <td>53.76</td>\n",
       "      <td>55.11</td>\n",
       "      <td>52.03</td>\n",
       "      <td>52.69</td>\n",
       "      <td>52.69</td>\n",
       "      <td>268708</td>\n",
       "    </tr>\n",
       "  </tbody>\n",
       "</table>\n",
       "<p>2001 rows × 7 columns</p>\n",
       "</div>"
      ],
      "text/plain": [
       "           Date   Open   High    Low  Close Adj Close  Volume\n",
       "0    2022-12-02  81.47  82.22  79.65  79.98     79.98  321432\n",
       "1    2022-12-01   80.4  83.34  79.93  81.22     81.22  321432\n",
       "2    2022-11-30     79  81.38   78.4  80.55     80.55  287534\n",
       "3    2022-11-29  76.54  79.65  76.29   78.2      78.2  381869\n",
       "4    2022-11-28  75.93  77.84   73.6  77.24     77.24  405033\n",
       "...         ...    ...    ...    ...    ...       ...     ...\n",
       "1996 2015-01-08  48.78  49.65  47.73  48.79     48.79  362081\n",
       "1997 2015-01-07     48  49.31  46.83  48.65     48.65  460083\n",
       "1998 2015-01-06     50  50.37  47.55  47.93     47.93  451642\n",
       "1999 2015-01-05  52.61  52.73  49.68  50.04     50.04  375782\n",
       "2000 2015-01-02  53.76  55.11  52.03  52.69     52.69  268708\n",
       "\n",
       "[2001 rows x 7 columns]"
      ]
     },
     "execution_count": 893,
     "metadata": {},
     "output_type": "execute_result"
    }
   ],
   "source": [
    "df2"
   ]
  },
  {
   "cell_type": "markdown",
   "id": "346da079",
   "metadata": {},
   "source": [
    "## Merging Data Frames On Date "
   ]
  },
  {
   "cell_type": "code",
   "execution_count": 894,
   "id": "d6c08b79",
   "metadata": {},
   "outputs": [
    {
     "name": "stderr",
     "output_type": "stream",
     "text": [
      "/var/folders/r9/sv2l0znj5xbg1cbcvnh09h4c0000gn/T/ipykernel_25381/1922434517.py:9: FutureWarning: Passing 'suffixes' which cause duplicate columns {'Adj Close_x'} in the result is deprecated and will raise a MergeError in a future version.\n",
      "  merged_df = pd.merge(merged_df, df_adj, on='Date', how='inner')\n"
     ]
    }
   ],
   "source": [
    "df1_adj = df1[['Date','Adj Close']]\n",
    "df2_adj = df2[['Date','Adj Close']]\n",
    "df3_adj = df3[['Date','Adj Close']]\n",
    "df4_adj = df4[['Date','Adj Close']]\n",
    "df5_val = df5[['Date', 'Value']]\n",
    "df6_label=df6[['Date','last price recorded on the day', 'Label']]\n",
    "merged_df = df1_adj\n",
    "for df_adj in [df2_adj, df3_adj, df4_adj,df5_val,df6_label]:\n",
    "    merged_df = pd.merge(merged_df, df_adj, on='Date', how='inner')"
   ]
  },
  {
   "cell_type": "code",
   "execution_count": 895,
   "id": "d97a8a43",
   "metadata": {},
   "outputs": [
    {
     "data": {
      "text/html": [
       "<div>\n",
       "<style scoped>\n",
       "    .dataframe tbody tr th:only-of-type {\n",
       "        vertical-align: middle;\n",
       "    }\n",
       "\n",
       "    .dataframe tbody tr th {\n",
       "        vertical-align: top;\n",
       "    }\n",
       "\n",
       "    .dataframe thead th {\n",
       "        text-align: right;\n",
       "    }\n",
       "</style>\n",
       "<table border=\"1\" class=\"dataframe\">\n",
       "  <thead>\n",
       "    <tr style=\"text-align: right;\">\n",
       "      <th></th>\n",
       "      <th>Date</th>\n",
       "      <th>Adj Close_x</th>\n",
       "      <th>Adj Close_y</th>\n",
       "      <th>Adj Close_x</th>\n",
       "      <th>Adj Close_y</th>\n",
       "      <th>Value</th>\n",
       "      <th>last price recorded on the day</th>\n",
       "      <th>Label</th>\n",
       "    </tr>\n",
       "  </thead>\n",
       "  <tbody>\n",
       "    <tr>\n",
       "      <th>0</th>\n",
       "      <td>2015-03-25</td>\n",
       "      <td>0.272331</td>\n",
       "      <td>51.43</td>\n",
       "      <td>1.090203</td>\n",
       "      <td>1205.1</td>\n",
       "      <td>62885.0</td>\n",
       "      <td>33930</td>\n",
       "      <td>1</td>\n",
       "    </tr>\n",
       "    <tr>\n",
       "      <th>1</th>\n",
       "      <td>2015-03-30</td>\n",
       "      <td>0.272316</td>\n",
       "      <td>47.6</td>\n",
       "      <td>1.088495</td>\n",
       "      <td>1183.1</td>\n",
       "      <td>65175.1</td>\n",
       "      <td>33240</td>\n",
       "      <td>1</td>\n",
       "    </tr>\n",
       "    <tr>\n",
       "      <th>2</th>\n",
       "      <td>2015-03-31</td>\n",
       "      <td>0.272316</td>\n",
       "      <td>50.09</td>\n",
       "      <td>1.083025</td>\n",
       "      <td>1208.1</td>\n",
       "      <td>65728.0</td>\n",
       "      <td>33070</td>\n",
       "      <td>-1</td>\n",
       "    </tr>\n",
       "    <tr>\n",
       "      <th>3</th>\n",
       "      <td>2015-04-06</td>\n",
       "      <td>0.272316</td>\n",
       "      <td>53.98</td>\n",
       "      <td>1.100134</td>\n",
       "      <td>1210.6</td>\n",
       "      <td>70843.9</td>\n",
       "      <td>32860</td>\n",
       "      <td>1</td>\n",
       "    </tr>\n",
       "    <tr>\n",
       "      <th>4</th>\n",
       "      <td>2015-04-07</td>\n",
       "      <td>0.272324</td>\n",
       "      <td>50.42</td>\n",
       "      <td>1.093482</td>\n",
       "      <td>1203.1</td>\n",
       "      <td>70159.9</td>\n",
       "      <td>33140</td>\n",
       "      <td>1</td>\n",
       "    </tr>\n",
       "    <tr>\n",
       "      <th>...</th>\n",
       "      <td>...</td>\n",
       "      <td>...</td>\n",
       "      <td>...</td>\n",
       "      <td>...</td>\n",
       "      <td>...</td>\n",
       "      <td>...</td>\n",
       "      <td>...</td>\n",
       "      <td>...</td>\n",
       "    </tr>\n",
       "    <tr>\n",
       "      <th>992</th>\n",
       "      <td>2022-10-11</td>\n",
       "      <td>0.272324</td>\n",
       "      <td>87.27</td>\n",
       "      <td>0.971006</td>\n",
       "      <td>1670.3</td>\n",
       "      <td>1313583.9</td>\n",
       "      <td>327520</td>\n",
       "      <td>1</td>\n",
       "    </tr>\n",
       "    <tr>\n",
       "      <th>993</th>\n",
       "      <td>2022-10-12</td>\n",
       "      <td>0.272324</td>\n",
       "      <td>89.11</td>\n",
       "      <td>0.970017</td>\n",
       "      <td>1670</td>\n",
       "      <td>1319789.7</td>\n",
       "      <td>326510</td>\n",
       "      <td>-1</td>\n",
       "    </tr>\n",
       "    <tr>\n",
       "      <th>994</th>\n",
       "      <td>2022-10-17</td>\n",
       "      <td>0.272286</td>\n",
       "      <td>82.82</td>\n",
       "      <td>0.973937</td>\n",
       "      <td>1649</td>\n",
       "      <td>1311109.9</td>\n",
       "      <td>328620</td>\n",
       "      <td>-1</td>\n",
       "    </tr>\n",
       "    <tr>\n",
       "      <th>995</th>\n",
       "      <td>2022-10-18</td>\n",
       "      <td>0.272324</td>\n",
       "      <td>85.55</td>\n",
       "      <td>0.984640</td>\n",
       "      <td>1627.5</td>\n",
       "      <td>1312563.2</td>\n",
       "      <td>328390</td>\n",
       "      <td>-1</td>\n",
       "    </tr>\n",
       "    <tr>\n",
       "      <th>996</th>\n",
       "      <td>2022-10-19</td>\n",
       "      <td>0.272324</td>\n",
       "      <td>85.98</td>\n",
       "      <td>0.986388</td>\n",
       "      <td>1630.8</td>\n",
       "      <td>1310165.9</td>\n",
       "      <td>327970</td>\n",
       "      <td>-1</td>\n",
       "    </tr>\n",
       "  </tbody>\n",
       "</table>\n",
       "<p>997 rows × 8 columns</p>\n",
       "</div>"
      ],
      "text/plain": [
       "          Date  Adj Close_x Adj Close_y  Adj Close_x Adj Close_y      Value  \\\n",
       "0   2015-03-25     0.272331       51.43     1.090203      1205.1    62885.0   \n",
       "1   2015-03-30     0.272316        47.6     1.088495      1183.1    65175.1   \n",
       "2   2015-03-31     0.272316       50.09     1.083025      1208.1    65728.0   \n",
       "3   2015-04-06     0.272316       53.98     1.100134      1210.6    70843.9   \n",
       "4   2015-04-07     0.272324       50.42     1.093482      1203.1    70159.9   \n",
       "..         ...          ...         ...          ...         ...        ...   \n",
       "992 2022-10-11     0.272324       87.27     0.971006      1670.3  1313583.9   \n",
       "993 2022-10-12     0.272324       89.11     0.970017        1670  1319789.7   \n",
       "994 2022-10-17     0.272286       82.82     0.973937        1649  1311109.9   \n",
       "995 2022-10-18     0.272324       85.55     0.984640      1627.5  1312563.2   \n",
       "996 2022-10-19     0.272324       85.98     0.986388      1630.8  1310165.9   \n",
       "\n",
       "     last price recorded on the day  Label  \n",
       "0                             33930      1  \n",
       "1                             33240      1  \n",
       "2                             33070     -1  \n",
       "3                             32860      1  \n",
       "4                             33140      1  \n",
       "..                              ...    ...  \n",
       "992                          327520      1  \n",
       "993                          326510     -1  \n",
       "994                          328620     -1  \n",
       "995                          328390     -1  \n",
       "996                          327970     -1  \n",
       "\n",
       "[997 rows x 8 columns]"
      ]
     },
     "execution_count": 895,
     "metadata": {},
     "output_type": "execute_result"
    }
   ],
   "source": [
    "merged_df"
   ]
  },
  {
   "cell_type": "markdown",
   "id": "e2482b21",
   "metadata": {},
   "source": [
    "## Check Null "
   ]
  },
  {
   "cell_type": "code",
   "execution_count": 896,
   "id": "24546cb8",
   "metadata": {},
   "outputs": [
    {
     "data": {
      "text/plain": [
       "Date                              0\n",
       "Adj Close_x                       0\n",
       "Adj Close_y                       0\n",
       "Adj Close_x                       0\n",
       "Adj Close_y                       0\n",
       "Value                             0\n",
       "last price recorded on the day    0\n",
       "Label                             0\n",
       "dtype: int64"
      ]
     },
     "execution_count": 896,
     "metadata": {},
     "output_type": "execute_result"
    }
   ],
   "source": [
    "merged_df.isnull().sum()"
   ]
  },
  {
   "cell_type": "code",
   "execution_count": 897,
   "id": "798130e2",
   "metadata": {},
   "outputs": [
    {
     "data": {
      "text/html": [
       "<div>\n",
       "<style scoped>\n",
       "    .dataframe tbody tr th:only-of-type {\n",
       "        vertical-align: middle;\n",
       "    }\n",
       "\n",
       "    .dataframe tbody tr th {\n",
       "        vertical-align: top;\n",
       "    }\n",
       "\n",
       "    .dataframe thead th {\n",
       "        text-align: right;\n",
       "    }\n",
       "</style>\n",
       "<table border=\"1\" class=\"dataframe\">\n",
       "  <thead>\n",
       "    <tr style=\"text-align: right;\">\n",
       "      <th></th>\n",
       "      <th>Date</th>\n",
       "      <th>Adj Close_x</th>\n",
       "      <th>Adj Close_y</th>\n",
       "      <th>Adj Close_x</th>\n",
       "      <th>Adj Close_y</th>\n",
       "      <th>Value</th>\n",
       "      <th>last price recorded on the day</th>\n",
       "      <th>Label</th>\n",
       "    </tr>\n",
       "  </thead>\n",
       "  <tbody>\n",
       "    <tr>\n",
       "      <th>0</th>\n",
       "      <td>2015-03-25</td>\n",
       "      <td>0.272331</td>\n",
       "      <td>51.43</td>\n",
       "      <td>1.090203</td>\n",
       "      <td>1205.1</td>\n",
       "      <td>62885.0</td>\n",
       "      <td>33930</td>\n",
       "      <td>1</td>\n",
       "    </tr>\n",
       "    <tr>\n",
       "      <th>1</th>\n",
       "      <td>2015-03-30</td>\n",
       "      <td>0.272316</td>\n",
       "      <td>47.6</td>\n",
       "      <td>1.088495</td>\n",
       "      <td>1183.1</td>\n",
       "      <td>65175.1</td>\n",
       "      <td>33240</td>\n",
       "      <td>1</td>\n",
       "    </tr>\n",
       "    <tr>\n",
       "      <th>2</th>\n",
       "      <td>2015-03-31</td>\n",
       "      <td>0.272316</td>\n",
       "      <td>50.09</td>\n",
       "      <td>1.083025</td>\n",
       "      <td>1208.1</td>\n",
       "      <td>65728.0</td>\n",
       "      <td>33070</td>\n",
       "      <td>-1</td>\n",
       "    </tr>\n",
       "    <tr>\n",
       "      <th>3</th>\n",
       "      <td>2015-04-06</td>\n",
       "      <td>0.272316</td>\n",
       "      <td>53.98</td>\n",
       "      <td>1.100134</td>\n",
       "      <td>1210.6</td>\n",
       "      <td>70843.9</td>\n",
       "      <td>32860</td>\n",
       "      <td>1</td>\n",
       "    </tr>\n",
       "    <tr>\n",
       "      <th>4</th>\n",
       "      <td>2015-04-07</td>\n",
       "      <td>0.272324</td>\n",
       "      <td>50.42</td>\n",
       "      <td>1.093482</td>\n",
       "      <td>1203.1</td>\n",
       "      <td>70159.9</td>\n",
       "      <td>33140</td>\n",
       "      <td>1</td>\n",
       "    </tr>\n",
       "    <tr>\n",
       "      <th>...</th>\n",
       "      <td>...</td>\n",
       "      <td>...</td>\n",
       "      <td>...</td>\n",
       "      <td>...</td>\n",
       "      <td>...</td>\n",
       "      <td>...</td>\n",
       "      <td>...</td>\n",
       "      <td>...</td>\n",
       "    </tr>\n",
       "    <tr>\n",
       "      <th>992</th>\n",
       "      <td>2022-10-11</td>\n",
       "      <td>0.272324</td>\n",
       "      <td>87.27</td>\n",
       "      <td>0.971006</td>\n",
       "      <td>1670.3</td>\n",
       "      <td>1313583.9</td>\n",
       "      <td>327520</td>\n",
       "      <td>1</td>\n",
       "    </tr>\n",
       "    <tr>\n",
       "      <th>993</th>\n",
       "      <td>2022-10-12</td>\n",
       "      <td>0.272324</td>\n",
       "      <td>89.11</td>\n",
       "      <td>0.970017</td>\n",
       "      <td>1670</td>\n",
       "      <td>1319789.7</td>\n",
       "      <td>326510</td>\n",
       "      <td>-1</td>\n",
       "    </tr>\n",
       "    <tr>\n",
       "      <th>994</th>\n",
       "      <td>2022-10-17</td>\n",
       "      <td>0.272286</td>\n",
       "      <td>82.82</td>\n",
       "      <td>0.973937</td>\n",
       "      <td>1649</td>\n",
       "      <td>1311109.9</td>\n",
       "      <td>328620</td>\n",
       "      <td>-1</td>\n",
       "    </tr>\n",
       "    <tr>\n",
       "      <th>995</th>\n",
       "      <td>2022-10-18</td>\n",
       "      <td>0.272324</td>\n",
       "      <td>85.55</td>\n",
       "      <td>0.984640</td>\n",
       "      <td>1627.5</td>\n",
       "      <td>1312563.2</td>\n",
       "      <td>328390</td>\n",
       "      <td>-1</td>\n",
       "    </tr>\n",
       "    <tr>\n",
       "      <th>996</th>\n",
       "      <td>2022-10-19</td>\n",
       "      <td>0.272324</td>\n",
       "      <td>85.98</td>\n",
       "      <td>0.986388</td>\n",
       "      <td>1630.8</td>\n",
       "      <td>1310165.9</td>\n",
       "      <td>327970</td>\n",
       "      <td>-1</td>\n",
       "    </tr>\n",
       "  </tbody>\n",
       "</table>\n",
       "<p>997 rows × 8 columns</p>\n",
       "</div>"
      ],
      "text/plain": [
       "          Date  Adj Close_x Adj Close_y  Adj Close_x Adj Close_y      Value  \\\n",
       "0   2015-03-25     0.272331       51.43     1.090203      1205.1    62885.0   \n",
       "1   2015-03-30     0.272316        47.6     1.088495      1183.1    65175.1   \n",
       "2   2015-03-31     0.272316       50.09     1.083025      1208.1    65728.0   \n",
       "3   2015-04-06     0.272316       53.98     1.100134      1210.6    70843.9   \n",
       "4   2015-04-07     0.272324       50.42     1.093482      1203.1    70159.9   \n",
       "..         ...          ...         ...          ...         ...        ...   \n",
       "992 2022-10-11     0.272324       87.27     0.971006      1670.3  1313583.9   \n",
       "993 2022-10-12     0.272324       89.11     0.970017        1670  1319789.7   \n",
       "994 2022-10-17     0.272286       82.82     0.973937        1649  1311109.9   \n",
       "995 2022-10-18     0.272324       85.55     0.984640      1627.5  1312563.2   \n",
       "996 2022-10-19     0.272324       85.98     0.986388      1630.8  1310165.9   \n",
       "\n",
       "     last price recorded on the day  Label  \n",
       "0                             33930      1  \n",
       "1                             33240      1  \n",
       "2                             33070     -1  \n",
       "3                             32860      1  \n",
       "4                             33140      1  \n",
       "..                              ...    ...  \n",
       "992                          327520      1  \n",
       "993                          326510     -1  \n",
       "994                          328620     -1  \n",
       "995                          328390     -1  \n",
       "996                          327970     -1  \n",
       "\n",
       "[997 rows x 8 columns]"
      ]
     },
     "execution_count": 897,
     "metadata": {},
     "output_type": "execute_result"
    }
   ],
   "source": [
    "merged_df"
   ]
  },
  {
   "cell_type": "markdown",
   "id": "a52d2b48",
   "metadata": {},
   "source": [
    "## Rename Columns "
   ]
  },
  {
   "cell_type": "code",
   "execution_count": 898,
   "id": "63637eda",
   "metadata": {},
   "outputs": [],
   "source": [
    "new_column_names = ['Date','adj_close_df1','adj_close_df2', 'adj_close_df3','adj_close_df4','value','price','label']"
   ]
  },
  {
   "cell_type": "code",
   "execution_count": 899,
   "id": "9b9d7ad9",
   "metadata": {},
   "outputs": [],
   "source": [
    "merged_df.columns = new_column_names"
   ]
  },
  {
   "cell_type": "code",
   "execution_count": 900,
   "id": "cac9f9c4",
   "metadata": {},
   "outputs": [
    {
     "data": {
      "text/html": [
       "<div>\n",
       "<style scoped>\n",
       "    .dataframe tbody tr th:only-of-type {\n",
       "        vertical-align: middle;\n",
       "    }\n",
       "\n",
       "    .dataframe tbody tr th {\n",
       "        vertical-align: top;\n",
       "    }\n",
       "\n",
       "    .dataframe thead th {\n",
       "        text-align: right;\n",
       "    }\n",
       "</style>\n",
       "<table border=\"1\" class=\"dataframe\">\n",
       "  <thead>\n",
       "    <tr style=\"text-align: right;\">\n",
       "      <th></th>\n",
       "      <th>Date</th>\n",
       "      <th>adj_close_df1</th>\n",
       "      <th>adj_close_df2</th>\n",
       "      <th>adj_close_df3</th>\n",
       "      <th>adj_close_df4</th>\n",
       "      <th>value</th>\n",
       "      <th>price</th>\n",
       "      <th>label</th>\n",
       "    </tr>\n",
       "  </thead>\n",
       "  <tbody>\n",
       "    <tr>\n",
       "      <th>0</th>\n",
       "      <td>2015-03-25</td>\n",
       "      <td>0.272331</td>\n",
       "      <td>51.43</td>\n",
       "      <td>1.090203</td>\n",
       "      <td>1205.1</td>\n",
       "      <td>62885.0</td>\n",
       "      <td>33930</td>\n",
       "      <td>1</td>\n",
       "    </tr>\n",
       "    <tr>\n",
       "      <th>1</th>\n",
       "      <td>2015-03-30</td>\n",
       "      <td>0.272316</td>\n",
       "      <td>47.6</td>\n",
       "      <td>1.088495</td>\n",
       "      <td>1183.1</td>\n",
       "      <td>65175.1</td>\n",
       "      <td>33240</td>\n",
       "      <td>1</td>\n",
       "    </tr>\n",
       "    <tr>\n",
       "      <th>2</th>\n",
       "      <td>2015-03-31</td>\n",
       "      <td>0.272316</td>\n",
       "      <td>50.09</td>\n",
       "      <td>1.083025</td>\n",
       "      <td>1208.1</td>\n",
       "      <td>65728.0</td>\n",
       "      <td>33070</td>\n",
       "      <td>-1</td>\n",
       "    </tr>\n",
       "    <tr>\n",
       "      <th>3</th>\n",
       "      <td>2015-04-06</td>\n",
       "      <td>0.272316</td>\n",
       "      <td>53.98</td>\n",
       "      <td>1.100134</td>\n",
       "      <td>1210.6</td>\n",
       "      <td>70843.9</td>\n",
       "      <td>32860</td>\n",
       "      <td>1</td>\n",
       "    </tr>\n",
       "    <tr>\n",
       "      <th>4</th>\n",
       "      <td>2015-04-07</td>\n",
       "      <td>0.272324</td>\n",
       "      <td>50.42</td>\n",
       "      <td>1.093482</td>\n",
       "      <td>1203.1</td>\n",
       "      <td>70159.9</td>\n",
       "      <td>33140</td>\n",
       "      <td>1</td>\n",
       "    </tr>\n",
       "    <tr>\n",
       "      <th>...</th>\n",
       "      <td>...</td>\n",
       "      <td>...</td>\n",
       "      <td>...</td>\n",
       "      <td>...</td>\n",
       "      <td>...</td>\n",
       "      <td>...</td>\n",
       "      <td>...</td>\n",
       "      <td>...</td>\n",
       "    </tr>\n",
       "    <tr>\n",
       "      <th>992</th>\n",
       "      <td>2022-10-11</td>\n",
       "      <td>0.272324</td>\n",
       "      <td>87.27</td>\n",
       "      <td>0.971006</td>\n",
       "      <td>1670.3</td>\n",
       "      <td>1313583.9</td>\n",
       "      <td>327520</td>\n",
       "      <td>1</td>\n",
       "    </tr>\n",
       "    <tr>\n",
       "      <th>993</th>\n",
       "      <td>2022-10-12</td>\n",
       "      <td>0.272324</td>\n",
       "      <td>89.11</td>\n",
       "      <td>0.970017</td>\n",
       "      <td>1670</td>\n",
       "      <td>1319789.7</td>\n",
       "      <td>326510</td>\n",
       "      <td>-1</td>\n",
       "    </tr>\n",
       "    <tr>\n",
       "      <th>994</th>\n",
       "      <td>2022-10-17</td>\n",
       "      <td>0.272286</td>\n",
       "      <td>82.82</td>\n",
       "      <td>0.973937</td>\n",
       "      <td>1649</td>\n",
       "      <td>1311109.9</td>\n",
       "      <td>328620</td>\n",
       "      <td>-1</td>\n",
       "    </tr>\n",
       "    <tr>\n",
       "      <th>995</th>\n",
       "      <td>2022-10-18</td>\n",
       "      <td>0.272324</td>\n",
       "      <td>85.55</td>\n",
       "      <td>0.984640</td>\n",
       "      <td>1627.5</td>\n",
       "      <td>1312563.2</td>\n",
       "      <td>328390</td>\n",
       "      <td>-1</td>\n",
       "    </tr>\n",
       "    <tr>\n",
       "      <th>996</th>\n",
       "      <td>2022-10-19</td>\n",
       "      <td>0.272324</td>\n",
       "      <td>85.98</td>\n",
       "      <td>0.986388</td>\n",
       "      <td>1630.8</td>\n",
       "      <td>1310165.9</td>\n",
       "      <td>327970</td>\n",
       "      <td>-1</td>\n",
       "    </tr>\n",
       "  </tbody>\n",
       "</table>\n",
       "<p>997 rows × 8 columns</p>\n",
       "</div>"
      ],
      "text/plain": [
       "          Date  adj_close_df1 adj_close_df2  adj_close_df3 adj_close_df4  \\\n",
       "0   2015-03-25       0.272331         51.43       1.090203        1205.1   \n",
       "1   2015-03-30       0.272316          47.6       1.088495        1183.1   \n",
       "2   2015-03-31       0.272316         50.09       1.083025        1208.1   \n",
       "3   2015-04-06       0.272316         53.98       1.100134        1210.6   \n",
       "4   2015-04-07       0.272324         50.42       1.093482        1203.1   \n",
       "..         ...            ...           ...            ...           ...   \n",
       "992 2022-10-11       0.272324         87.27       0.971006        1670.3   \n",
       "993 2022-10-12       0.272324         89.11       0.970017          1670   \n",
       "994 2022-10-17       0.272286         82.82       0.973937          1649   \n",
       "995 2022-10-18       0.272324         85.55       0.984640        1627.5   \n",
       "996 2022-10-19       0.272324         85.98       0.986388        1630.8   \n",
       "\n",
       "         value   price  label  \n",
       "0      62885.0   33930      1  \n",
       "1      65175.1   33240      1  \n",
       "2      65728.0   33070     -1  \n",
       "3      70843.9   32860      1  \n",
       "4      70159.9   33140      1  \n",
       "..         ...     ...    ...  \n",
       "992  1313583.9  327520      1  \n",
       "993  1319789.7  326510     -1  \n",
       "994  1311109.9  328620     -1  \n",
       "995  1312563.2  328390     -1  \n",
       "996  1310165.9  327970     -1  \n",
       "\n",
       "[997 rows x 8 columns]"
      ]
     },
     "execution_count": 900,
     "metadata": {},
     "output_type": "execute_result"
    }
   ],
   "source": [
    "merged_df"
   ]
  },
  {
   "cell_type": "code",
   "execution_count": 901,
   "id": "584141b3",
   "metadata": {},
   "outputs": [
    {
     "data": {
      "text/plain": [
       "(1830, 4)"
      ]
     },
     "execution_count": 901,
     "metadata": {},
     "output_type": "execute_result"
    }
   ],
   "source": [
    "df5.shape"
   ]
  },
  {
   "cell_type": "code",
   "execution_count": 902,
   "id": "f040a57b",
   "metadata": {},
   "outputs": [
    {
     "data": {
      "text/plain": [
       "Date             datetime64[ns]\n",
       "adj_close_df1           float64\n",
       "adj_close_df2            object\n",
       "adj_close_df3           float64\n",
       "adj_close_df4            object\n",
       "value                   float64\n",
       "price                     int64\n",
       "label                     int64\n",
       "dtype: object"
      ]
     },
     "execution_count": 902,
     "metadata": {},
     "output_type": "execute_result"
    }
   ],
   "source": [
    "merged_df.dtypes"
   ]
  },
  {
   "cell_type": "code",
   "execution_count": 903,
   "id": "d1efaf04",
   "metadata": {},
   "outputs": [],
   "source": [
    "merged_df['Date'] = pd.to_datetime(merged_df['Date'])"
   ]
  },
  {
   "cell_type": "code",
   "execution_count": 904,
   "id": "61571c8f",
   "metadata": {},
   "outputs": [
    {
     "data": {
      "text/plain": [
       "Date             datetime64[ns]\n",
       "adj_close_df1           float64\n",
       "adj_close_df2            object\n",
       "adj_close_df3           float64\n",
       "adj_close_df4            object\n",
       "value                   float64\n",
       "price                     int64\n",
       "label                     int64\n",
       "dtype: object"
      ]
     },
     "execution_count": 904,
     "metadata": {},
     "output_type": "execute_result"
    }
   ],
   "source": [
    "merged_df.dtypes"
   ]
  },
  {
   "cell_type": "code",
   "execution_count": 905,
   "id": "eb6024dc",
   "metadata": {},
   "outputs": [],
   "source": [
    "merged_df['Date'] = merged_df['Date'].astype('int64')"
   ]
  },
  {
   "cell_type": "code",
   "execution_count": 906,
   "id": "01768e22",
   "metadata": {},
   "outputs": [],
   "source": [
    "merged_df['value'] = pd.to_numeric(merged_df['value'].replace('-', np.nan), errors='coerce')"
   ]
  },
  {
   "cell_type": "code",
   "execution_count": 907,
   "id": "82012b16",
   "metadata": {},
   "outputs": [],
   "source": [
    "merged_df['adj_close_df1'] = pd.to_numeric(merged_df['adj_close_df1'].replace('-', np.nan), errors='coerce')"
   ]
  },
  {
   "cell_type": "code",
   "execution_count": 908,
   "id": "5d2757ff",
   "metadata": {},
   "outputs": [],
   "source": [
    "merged_df['adj_close_df2'] = pd.to_numeric(merged_df['adj_close_df2'].replace('-', np.nan), errors='coerce')"
   ]
  },
  {
   "cell_type": "code",
   "execution_count": 909,
   "id": "16679180",
   "metadata": {},
   "outputs": [],
   "source": [
    "merged_df['adj_close_df3'] = pd.to_numeric(merged_df['adj_close_df3'].replace('-', np.nan), errors='coerce')"
   ]
  },
  {
   "cell_type": "code",
   "execution_count": 910,
   "id": "f3f3a450",
   "metadata": {},
   "outputs": [],
   "source": [
    "merged_df['adj_close_df4'] = pd.to_numeric(merged_df['adj_close_df4'].replace('-', np.nan), errors='coerce')"
   ]
  },
  {
   "cell_type": "code",
   "execution_count": 911,
   "id": "e4552143",
   "metadata": {},
   "outputs": [
    {
     "data": {
      "text/plain": [
       "Date             0\n",
       "adj_close_df1    0\n",
       "adj_close_df2    2\n",
       "adj_close_df3    0\n",
       "adj_close_df4    3\n",
       "value            0\n",
       "price            0\n",
       "label            0\n",
       "dtype: int64"
      ]
     },
     "execution_count": 911,
     "metadata": {},
     "output_type": "execute_result"
    }
   ],
   "source": [
    "merged_df.isnull().sum()"
   ]
  },
  {
   "cell_type": "code",
   "execution_count": 912,
   "id": "d6117a2f",
   "metadata": {},
   "outputs": [],
   "source": [
    "merged_df = merged_df.fillna(merged_df.mean())"
   ]
  },
  {
   "cell_type": "code",
   "execution_count": 913,
   "id": "0182067b",
   "metadata": {},
   "outputs": [
    {
     "data": {
      "text/plain": [
       "Date             0\n",
       "adj_close_df1    0\n",
       "adj_close_df2    0\n",
       "adj_close_df3    0\n",
       "adj_close_df4    0\n",
       "value            0\n",
       "price            0\n",
       "label            0\n",
       "dtype: int64"
      ]
     },
     "execution_count": 913,
     "metadata": {},
     "output_type": "execute_result"
    }
   ],
   "source": [
    "merged_df.isnull().sum()"
   ]
  },
  {
   "cell_type": "markdown",
   "id": "2f9bd6a0",
   "metadata": {},
   "source": [
    "## Train / Test Split"
   ]
  },
  {
   "cell_type": "code",
   "execution_count": 914,
   "id": "5e3b3e43",
   "metadata": {},
   "outputs": [],
   "source": [
    "X = merged_df.drop(['label'], axis=1)  # Features\n",
    "y = merged_df['label']  # Labels"
   ]
  },
  {
   "cell_type": "code",
   "execution_count": 915,
   "id": "a7e0ffbf",
   "metadata": {},
   "outputs": [],
   "source": [
    "X_train, X_test, y_train, y_test = train_test_split(X, y, test_size=0.2, random_state=42)"
   ]
  },
  {
   "cell_type": "markdown",
   "id": "dd19bf70",
   "metadata": {},
   "source": [
    "## Train Our Model"
   ]
  },
  {
   "cell_type": "code",
   "execution_count": 916,
   "id": "addf336c",
   "metadata": {},
   "outputs": [
    {
     "data": {
      "text/html": [
       "<style>#sk-container-id-36 {color: black;background-color: white;}#sk-container-id-36 pre{padding: 0;}#sk-container-id-36 div.sk-toggleable {background-color: white;}#sk-container-id-36 label.sk-toggleable__label {cursor: pointer;display: block;width: 100%;margin-bottom: 0;padding: 0.3em;box-sizing: border-box;text-align: center;}#sk-container-id-36 label.sk-toggleable__label-arrow:before {content: \"▸\";float: left;margin-right: 0.25em;color: #696969;}#sk-container-id-36 label.sk-toggleable__label-arrow:hover:before {color: black;}#sk-container-id-36 div.sk-estimator:hover label.sk-toggleable__label-arrow:before {color: black;}#sk-container-id-36 div.sk-toggleable__content {max-height: 0;max-width: 0;overflow: hidden;text-align: left;background-color: #f0f8ff;}#sk-container-id-36 div.sk-toggleable__content pre {margin: 0.2em;color: black;border-radius: 0.25em;background-color: #f0f8ff;}#sk-container-id-36 input.sk-toggleable__control:checked~div.sk-toggleable__content {max-height: 200px;max-width: 100%;overflow: auto;}#sk-container-id-36 input.sk-toggleable__control:checked~label.sk-toggleable__label-arrow:before {content: \"▾\";}#sk-container-id-36 div.sk-estimator input.sk-toggleable__control:checked~label.sk-toggleable__label {background-color: #d4ebff;}#sk-container-id-36 div.sk-label input.sk-toggleable__control:checked~label.sk-toggleable__label {background-color: #d4ebff;}#sk-container-id-36 input.sk-hidden--visually {border: 0;clip: rect(1px 1px 1px 1px);clip: rect(1px, 1px, 1px, 1px);height: 1px;margin: -1px;overflow: hidden;padding: 0;position: absolute;width: 1px;}#sk-container-id-36 div.sk-estimator {font-family: monospace;background-color: #f0f8ff;border: 1px dotted black;border-radius: 0.25em;box-sizing: border-box;margin-bottom: 0.5em;}#sk-container-id-36 div.sk-estimator:hover {background-color: #d4ebff;}#sk-container-id-36 div.sk-parallel-item::after {content: \"\";width: 100%;border-bottom: 1px solid gray;flex-grow: 1;}#sk-container-id-36 div.sk-label:hover label.sk-toggleable__label {background-color: #d4ebff;}#sk-container-id-36 div.sk-serial::before {content: \"\";position: absolute;border-left: 1px solid gray;box-sizing: border-box;top: 0;bottom: 0;left: 50%;z-index: 0;}#sk-container-id-36 div.sk-serial {display: flex;flex-direction: column;align-items: center;background-color: white;padding-right: 0.2em;padding-left: 0.2em;position: relative;}#sk-container-id-36 div.sk-item {position: relative;z-index: 1;}#sk-container-id-36 div.sk-parallel {display: flex;align-items: stretch;justify-content: center;background-color: white;position: relative;}#sk-container-id-36 div.sk-item::before, #sk-container-id-36 div.sk-parallel-item::before {content: \"\";position: absolute;border-left: 1px solid gray;box-sizing: border-box;top: 0;bottom: 0;left: 50%;z-index: -1;}#sk-container-id-36 div.sk-parallel-item {display: flex;flex-direction: column;z-index: 1;position: relative;background-color: white;}#sk-container-id-36 div.sk-parallel-item:first-child::after {align-self: flex-end;width: 50%;}#sk-container-id-36 div.sk-parallel-item:last-child::after {align-self: flex-start;width: 50%;}#sk-container-id-36 div.sk-parallel-item:only-child::after {width: 0;}#sk-container-id-36 div.sk-dashed-wrapped {border: 1px dashed gray;margin: 0 0.4em 0.5em 0.4em;box-sizing: border-box;padding-bottom: 0.4em;background-color: white;}#sk-container-id-36 div.sk-label label {font-family: monospace;font-weight: bold;display: inline-block;line-height: 1.2em;}#sk-container-id-36 div.sk-label-container {text-align: center;}#sk-container-id-36 div.sk-container {/* jupyter's `normalize.less` sets `[hidden] { display: none; }` but bootstrap.min.css set `[hidden] { display: none !important; }` so we also need the `!important` here to be able to override the default hidden behavior on the sphinx rendered scikit-learn.org. See: https://github.com/scikit-learn/scikit-learn/issues/21755 */display: inline-block !important;position: relative;}#sk-container-id-36 div.sk-text-repr-fallback {display: none;}</style><div id=\"sk-container-id-36\" class=\"sk-top-container\"><div class=\"sk-text-repr-fallback\"><pre>DecisionTreeClassifier(random_state=42)</pre><b>In a Jupyter environment, please rerun this cell to show the HTML representation or trust the notebook. <br />On GitHub, the HTML representation is unable to render, please try loading this page with nbviewer.org.</b></div><div class=\"sk-container\" hidden><div class=\"sk-item\"><div class=\"sk-estimator sk-toggleable\"><input class=\"sk-toggleable__control sk-hidden--visually\" id=\"sk-estimator-id-40\" type=\"checkbox\" checked><label for=\"sk-estimator-id-40\" class=\"sk-toggleable__label sk-toggleable__label-arrow\">DecisionTreeClassifier</label><div class=\"sk-toggleable__content\"><pre>DecisionTreeClassifier(random_state=42)</pre></div></div></div></div></div>"
      ],
      "text/plain": [
       "DecisionTreeClassifier(random_state=42)"
      ]
     },
     "execution_count": 916,
     "metadata": {},
     "output_type": "execute_result"
    }
   ],
   "source": [
    "dt_model = DecisionTreeClassifier(random_state=42)\n",
    "dt_model.fit(X_train, y_train)"
   ]
  },
  {
   "cell_type": "code",
   "execution_count": 917,
   "id": "4d806ec6",
   "metadata": {},
   "outputs": [
    {
     "data": {
      "text/html": [
       "<style>#sk-container-id-37 {color: black;background-color: white;}#sk-container-id-37 pre{padding: 0;}#sk-container-id-37 div.sk-toggleable {background-color: white;}#sk-container-id-37 label.sk-toggleable__label {cursor: pointer;display: block;width: 100%;margin-bottom: 0;padding: 0.3em;box-sizing: border-box;text-align: center;}#sk-container-id-37 label.sk-toggleable__label-arrow:before {content: \"▸\";float: left;margin-right: 0.25em;color: #696969;}#sk-container-id-37 label.sk-toggleable__label-arrow:hover:before {color: black;}#sk-container-id-37 div.sk-estimator:hover label.sk-toggleable__label-arrow:before {color: black;}#sk-container-id-37 div.sk-toggleable__content {max-height: 0;max-width: 0;overflow: hidden;text-align: left;background-color: #f0f8ff;}#sk-container-id-37 div.sk-toggleable__content pre {margin: 0.2em;color: black;border-radius: 0.25em;background-color: #f0f8ff;}#sk-container-id-37 input.sk-toggleable__control:checked~div.sk-toggleable__content {max-height: 200px;max-width: 100%;overflow: auto;}#sk-container-id-37 input.sk-toggleable__control:checked~label.sk-toggleable__label-arrow:before {content: \"▾\";}#sk-container-id-37 div.sk-estimator input.sk-toggleable__control:checked~label.sk-toggleable__label {background-color: #d4ebff;}#sk-container-id-37 div.sk-label input.sk-toggleable__control:checked~label.sk-toggleable__label {background-color: #d4ebff;}#sk-container-id-37 input.sk-hidden--visually {border: 0;clip: rect(1px 1px 1px 1px);clip: rect(1px, 1px, 1px, 1px);height: 1px;margin: -1px;overflow: hidden;padding: 0;position: absolute;width: 1px;}#sk-container-id-37 div.sk-estimator {font-family: monospace;background-color: #f0f8ff;border: 1px dotted black;border-radius: 0.25em;box-sizing: border-box;margin-bottom: 0.5em;}#sk-container-id-37 div.sk-estimator:hover {background-color: #d4ebff;}#sk-container-id-37 div.sk-parallel-item::after {content: \"\";width: 100%;border-bottom: 1px solid gray;flex-grow: 1;}#sk-container-id-37 div.sk-label:hover label.sk-toggleable__label {background-color: #d4ebff;}#sk-container-id-37 div.sk-serial::before {content: \"\";position: absolute;border-left: 1px solid gray;box-sizing: border-box;top: 0;bottom: 0;left: 50%;z-index: 0;}#sk-container-id-37 div.sk-serial {display: flex;flex-direction: column;align-items: center;background-color: white;padding-right: 0.2em;padding-left: 0.2em;position: relative;}#sk-container-id-37 div.sk-item {position: relative;z-index: 1;}#sk-container-id-37 div.sk-parallel {display: flex;align-items: stretch;justify-content: center;background-color: white;position: relative;}#sk-container-id-37 div.sk-item::before, #sk-container-id-37 div.sk-parallel-item::before {content: \"\";position: absolute;border-left: 1px solid gray;box-sizing: border-box;top: 0;bottom: 0;left: 50%;z-index: -1;}#sk-container-id-37 div.sk-parallel-item {display: flex;flex-direction: column;z-index: 1;position: relative;background-color: white;}#sk-container-id-37 div.sk-parallel-item:first-child::after {align-self: flex-end;width: 50%;}#sk-container-id-37 div.sk-parallel-item:last-child::after {align-self: flex-start;width: 50%;}#sk-container-id-37 div.sk-parallel-item:only-child::after {width: 0;}#sk-container-id-37 div.sk-dashed-wrapped {border: 1px dashed gray;margin: 0 0.4em 0.5em 0.4em;box-sizing: border-box;padding-bottom: 0.4em;background-color: white;}#sk-container-id-37 div.sk-label label {font-family: monospace;font-weight: bold;display: inline-block;line-height: 1.2em;}#sk-container-id-37 div.sk-label-container {text-align: center;}#sk-container-id-37 div.sk-container {/* jupyter's `normalize.less` sets `[hidden] { display: none; }` but bootstrap.min.css set `[hidden] { display: none !important; }` so we also need the `!important` here to be able to override the default hidden behavior on the sphinx rendered scikit-learn.org. See: https://github.com/scikit-learn/scikit-learn/issues/21755 */display: inline-block !important;position: relative;}#sk-container-id-37 div.sk-text-repr-fallback {display: none;}</style><div id=\"sk-container-id-37\" class=\"sk-top-container\"><div class=\"sk-text-repr-fallback\"><pre>GaussianNB()</pre><b>In a Jupyter environment, please rerun this cell to show the HTML representation or trust the notebook. <br />On GitHub, the HTML representation is unable to render, please try loading this page with nbviewer.org.</b></div><div class=\"sk-container\" hidden><div class=\"sk-item\"><div class=\"sk-estimator sk-toggleable\"><input class=\"sk-toggleable__control sk-hidden--visually\" id=\"sk-estimator-id-41\" type=\"checkbox\" checked><label for=\"sk-estimator-id-41\" class=\"sk-toggleable__label sk-toggleable__label-arrow\">GaussianNB</label><div class=\"sk-toggleable__content\"><pre>GaussianNB()</pre></div></div></div></div></div>"
      ],
      "text/plain": [
       "GaussianNB()"
      ]
     },
     "execution_count": 917,
     "metadata": {},
     "output_type": "execute_result"
    }
   ],
   "source": [
    "nb_model = GaussianNB()\n",
    "nb_model.fit(X_train, y_train)"
   ]
  },
  {
   "cell_type": "code",
   "execution_count": 918,
   "id": "71fe0ed4",
   "metadata": {},
   "outputs": [
    {
     "data": {
      "text/html": [
       "<style>#sk-container-id-38 {color: black;background-color: white;}#sk-container-id-38 pre{padding: 0;}#sk-container-id-38 div.sk-toggleable {background-color: white;}#sk-container-id-38 label.sk-toggleable__label {cursor: pointer;display: block;width: 100%;margin-bottom: 0;padding: 0.3em;box-sizing: border-box;text-align: center;}#sk-container-id-38 label.sk-toggleable__label-arrow:before {content: \"▸\";float: left;margin-right: 0.25em;color: #696969;}#sk-container-id-38 label.sk-toggleable__label-arrow:hover:before {color: black;}#sk-container-id-38 div.sk-estimator:hover label.sk-toggleable__label-arrow:before {color: black;}#sk-container-id-38 div.sk-toggleable__content {max-height: 0;max-width: 0;overflow: hidden;text-align: left;background-color: #f0f8ff;}#sk-container-id-38 div.sk-toggleable__content pre {margin: 0.2em;color: black;border-radius: 0.25em;background-color: #f0f8ff;}#sk-container-id-38 input.sk-toggleable__control:checked~div.sk-toggleable__content {max-height: 200px;max-width: 100%;overflow: auto;}#sk-container-id-38 input.sk-toggleable__control:checked~label.sk-toggleable__label-arrow:before {content: \"▾\";}#sk-container-id-38 div.sk-estimator input.sk-toggleable__control:checked~label.sk-toggleable__label {background-color: #d4ebff;}#sk-container-id-38 div.sk-label input.sk-toggleable__control:checked~label.sk-toggleable__label {background-color: #d4ebff;}#sk-container-id-38 input.sk-hidden--visually {border: 0;clip: rect(1px 1px 1px 1px);clip: rect(1px, 1px, 1px, 1px);height: 1px;margin: -1px;overflow: hidden;padding: 0;position: absolute;width: 1px;}#sk-container-id-38 div.sk-estimator {font-family: monospace;background-color: #f0f8ff;border: 1px dotted black;border-radius: 0.25em;box-sizing: border-box;margin-bottom: 0.5em;}#sk-container-id-38 div.sk-estimator:hover {background-color: #d4ebff;}#sk-container-id-38 div.sk-parallel-item::after {content: \"\";width: 100%;border-bottom: 1px solid gray;flex-grow: 1;}#sk-container-id-38 div.sk-label:hover label.sk-toggleable__label {background-color: #d4ebff;}#sk-container-id-38 div.sk-serial::before {content: \"\";position: absolute;border-left: 1px solid gray;box-sizing: border-box;top: 0;bottom: 0;left: 50%;z-index: 0;}#sk-container-id-38 div.sk-serial {display: flex;flex-direction: column;align-items: center;background-color: white;padding-right: 0.2em;padding-left: 0.2em;position: relative;}#sk-container-id-38 div.sk-item {position: relative;z-index: 1;}#sk-container-id-38 div.sk-parallel {display: flex;align-items: stretch;justify-content: center;background-color: white;position: relative;}#sk-container-id-38 div.sk-item::before, #sk-container-id-38 div.sk-parallel-item::before {content: \"\";position: absolute;border-left: 1px solid gray;box-sizing: border-box;top: 0;bottom: 0;left: 50%;z-index: -1;}#sk-container-id-38 div.sk-parallel-item {display: flex;flex-direction: column;z-index: 1;position: relative;background-color: white;}#sk-container-id-38 div.sk-parallel-item:first-child::after {align-self: flex-end;width: 50%;}#sk-container-id-38 div.sk-parallel-item:last-child::after {align-self: flex-start;width: 50%;}#sk-container-id-38 div.sk-parallel-item:only-child::after {width: 0;}#sk-container-id-38 div.sk-dashed-wrapped {border: 1px dashed gray;margin: 0 0.4em 0.5em 0.4em;box-sizing: border-box;padding-bottom: 0.4em;background-color: white;}#sk-container-id-38 div.sk-label label {font-family: monospace;font-weight: bold;display: inline-block;line-height: 1.2em;}#sk-container-id-38 div.sk-label-container {text-align: center;}#sk-container-id-38 div.sk-container {/* jupyter's `normalize.less` sets `[hidden] { display: none; }` but bootstrap.min.css set `[hidden] { display: none !important; }` so we also need the `!important` here to be able to override the default hidden behavior on the sphinx rendered scikit-learn.org. See: https://github.com/scikit-learn/scikit-learn/issues/21755 */display: inline-block !important;position: relative;}#sk-container-id-38 div.sk-text-repr-fallback {display: none;}</style><div id=\"sk-container-id-38\" class=\"sk-top-container\"><div class=\"sk-text-repr-fallback\"><pre>SVC(random_state=42)</pre><b>In a Jupyter environment, please rerun this cell to show the HTML representation or trust the notebook. <br />On GitHub, the HTML representation is unable to render, please try loading this page with nbviewer.org.</b></div><div class=\"sk-container\" hidden><div class=\"sk-item\"><div class=\"sk-estimator sk-toggleable\"><input class=\"sk-toggleable__control sk-hidden--visually\" id=\"sk-estimator-id-42\" type=\"checkbox\" checked><label for=\"sk-estimator-id-42\" class=\"sk-toggleable__label sk-toggleable__label-arrow\">SVC</label><div class=\"sk-toggleable__content\"><pre>SVC(random_state=42)</pre></div></div></div></div></div>"
      ],
      "text/plain": [
       "SVC(random_state=42)"
      ]
     },
     "execution_count": 918,
     "metadata": {},
     "output_type": "execute_result"
    }
   ],
   "source": [
    "svm_model = SVC(random_state=42)\n",
    "svm_model.fit(X_train, y_train)"
   ]
  },
  {
   "cell_type": "code",
   "execution_count": 919,
   "id": "0bdf1a4f",
   "metadata": {},
   "outputs": [
    {
     "data": {
      "text/html": [
       "<style>#sk-container-id-39 {color: black;background-color: white;}#sk-container-id-39 pre{padding: 0;}#sk-container-id-39 div.sk-toggleable {background-color: white;}#sk-container-id-39 label.sk-toggleable__label {cursor: pointer;display: block;width: 100%;margin-bottom: 0;padding: 0.3em;box-sizing: border-box;text-align: center;}#sk-container-id-39 label.sk-toggleable__label-arrow:before {content: \"▸\";float: left;margin-right: 0.25em;color: #696969;}#sk-container-id-39 label.sk-toggleable__label-arrow:hover:before {color: black;}#sk-container-id-39 div.sk-estimator:hover label.sk-toggleable__label-arrow:before {color: black;}#sk-container-id-39 div.sk-toggleable__content {max-height: 0;max-width: 0;overflow: hidden;text-align: left;background-color: #f0f8ff;}#sk-container-id-39 div.sk-toggleable__content pre {margin: 0.2em;color: black;border-radius: 0.25em;background-color: #f0f8ff;}#sk-container-id-39 input.sk-toggleable__control:checked~div.sk-toggleable__content {max-height: 200px;max-width: 100%;overflow: auto;}#sk-container-id-39 input.sk-toggleable__control:checked~label.sk-toggleable__label-arrow:before {content: \"▾\";}#sk-container-id-39 div.sk-estimator input.sk-toggleable__control:checked~label.sk-toggleable__label {background-color: #d4ebff;}#sk-container-id-39 div.sk-label input.sk-toggleable__control:checked~label.sk-toggleable__label {background-color: #d4ebff;}#sk-container-id-39 input.sk-hidden--visually {border: 0;clip: rect(1px 1px 1px 1px);clip: rect(1px, 1px, 1px, 1px);height: 1px;margin: -1px;overflow: hidden;padding: 0;position: absolute;width: 1px;}#sk-container-id-39 div.sk-estimator {font-family: monospace;background-color: #f0f8ff;border: 1px dotted black;border-radius: 0.25em;box-sizing: border-box;margin-bottom: 0.5em;}#sk-container-id-39 div.sk-estimator:hover {background-color: #d4ebff;}#sk-container-id-39 div.sk-parallel-item::after {content: \"\";width: 100%;border-bottom: 1px solid gray;flex-grow: 1;}#sk-container-id-39 div.sk-label:hover label.sk-toggleable__label {background-color: #d4ebff;}#sk-container-id-39 div.sk-serial::before {content: \"\";position: absolute;border-left: 1px solid gray;box-sizing: border-box;top: 0;bottom: 0;left: 50%;z-index: 0;}#sk-container-id-39 div.sk-serial {display: flex;flex-direction: column;align-items: center;background-color: white;padding-right: 0.2em;padding-left: 0.2em;position: relative;}#sk-container-id-39 div.sk-item {position: relative;z-index: 1;}#sk-container-id-39 div.sk-parallel {display: flex;align-items: stretch;justify-content: center;background-color: white;position: relative;}#sk-container-id-39 div.sk-item::before, #sk-container-id-39 div.sk-parallel-item::before {content: \"\";position: absolute;border-left: 1px solid gray;box-sizing: border-box;top: 0;bottom: 0;left: 50%;z-index: -1;}#sk-container-id-39 div.sk-parallel-item {display: flex;flex-direction: column;z-index: 1;position: relative;background-color: white;}#sk-container-id-39 div.sk-parallel-item:first-child::after {align-self: flex-end;width: 50%;}#sk-container-id-39 div.sk-parallel-item:last-child::after {align-self: flex-start;width: 50%;}#sk-container-id-39 div.sk-parallel-item:only-child::after {width: 0;}#sk-container-id-39 div.sk-dashed-wrapped {border: 1px dashed gray;margin: 0 0.4em 0.5em 0.4em;box-sizing: border-box;padding-bottom: 0.4em;background-color: white;}#sk-container-id-39 div.sk-label label {font-family: monospace;font-weight: bold;display: inline-block;line-height: 1.2em;}#sk-container-id-39 div.sk-label-container {text-align: center;}#sk-container-id-39 div.sk-container {/* jupyter's `normalize.less` sets `[hidden] { display: none; }` but bootstrap.min.css set `[hidden] { display: none !important; }` so we also need the `!important` here to be able to override the default hidden behavior on the sphinx rendered scikit-learn.org. See: https://github.com/scikit-learn/scikit-learn/issues/21755 */display: inline-block !important;position: relative;}#sk-container-id-39 div.sk-text-repr-fallback {display: none;}</style><div id=\"sk-container-id-39\" class=\"sk-top-container\"><div class=\"sk-text-repr-fallback\"><pre>KNeighborsClassifier()</pre><b>In a Jupyter environment, please rerun this cell to show the HTML representation or trust the notebook. <br />On GitHub, the HTML representation is unable to render, please try loading this page with nbviewer.org.</b></div><div class=\"sk-container\" hidden><div class=\"sk-item\"><div class=\"sk-estimator sk-toggleable\"><input class=\"sk-toggleable__control sk-hidden--visually\" id=\"sk-estimator-id-43\" type=\"checkbox\" checked><label for=\"sk-estimator-id-43\" class=\"sk-toggleable__label sk-toggleable__label-arrow\">KNeighborsClassifier</label><div class=\"sk-toggleable__content\"><pre>KNeighborsClassifier()</pre></div></div></div></div></div>"
      ],
      "text/plain": [
       "KNeighborsClassifier()"
      ]
     },
     "execution_count": 919,
     "metadata": {},
     "output_type": "execute_result"
    }
   ],
   "source": [
    "knn_model = KNeighborsClassifier()\n",
    "knn_model.fit(X_train, y_train)"
   ]
  },
  {
   "cell_type": "code",
   "execution_count": 920,
   "id": "45a3b1df",
   "metadata": {},
   "outputs": [],
   "source": [
    "dt_predictions = dt_model.predict(X_test)\n",
    "nb_predictions = nb_model.predict(X_test)\n",
    "svm_predictions = svm_model.predict(X_test)\n",
    "knn_predictions = knn_model.predict(X_test)"
   ]
  },
  {
   "cell_type": "markdown",
   "id": "4ebb761c",
   "metadata": {},
   "source": [
    "## Evaluation "
   ]
  },
  {
   "cell_type": "code",
   "execution_count": 921,
   "id": "ac40317c",
   "metadata": {},
   "outputs": [],
   "source": [
    "models = ['Decision Tree', 'Naïve Bayes', 'SVM', 'KNN']"
   ]
  },
  {
   "cell_type": "code",
   "execution_count": 922,
   "id": "7e703d5a",
   "metadata": {
    "scrolled": true
   },
   "outputs": [
    {
     "name": "stdout",
     "output_type": "stream",
     "text": [
      "\n",
      "Evaluation metrics for Decision Tree:\n",
      "Accuracy: 0.4400\n",
      "Precision: 0.4526\n",
      "Recall: 0.4400\n",
      "F1-score: 0.4428\n",
      "\n",
      "Evaluation metrics for Naïve Bayes:\n",
      "Accuracy: 0.5500\n",
      "Precision: 0.3025\n",
      "Recall: 0.5500\n",
      "F1-score: 0.3903\n",
      "\n",
      "Evaluation metrics for SVM:\n",
      "Accuracy: 0.5500\n",
      "Precision: 0.3025\n",
      "Recall: 0.5500\n",
      "F1-score: 0.3903\n",
      "\n",
      "Evaluation metrics for KNN:\n",
      "Accuracy: 0.4350\n",
      "Precision: 0.4404\n",
      "Recall: 0.4350\n",
      "F1-score: 0.4326\n"
     ]
    },
    {
     "name": "stderr",
     "output_type": "stream",
     "text": [
      "/Users/mahdi/anaconda3/lib/python3.10/site-packages/sklearn/metrics/_classification.py:1344: UndefinedMetricWarning: Precision is ill-defined and being set to 0.0 in labels with no predicted samples. Use `zero_division` parameter to control this behavior.\n",
      "  _warn_prf(average, modifier, msg_start, len(result))\n",
      "/Users/mahdi/anaconda3/lib/python3.10/site-packages/sklearn/metrics/_classification.py:1344: UndefinedMetricWarning: Precision is ill-defined and being set to 0.0 in labels with no predicted samples. Use `zero_division` parameter to control this behavior.\n",
      "  _warn_prf(average, modifier, msg_start, len(result))\n"
     ]
    }
   ],
   "source": [
    "for i, predictions in enumerate([dt_predictions, nb_predictions, svm_predictions, knn_predictions]):\n",
    "    model_name = models[i]\n",
    "    accuracy = accuracy_score(y_test, predictions)\n",
    "    precision = precision_score(y_test, predictions, average='weighted')\n",
    "    recall = recall_score(y_test, predictions, average='weighted')\n",
    "    f1 = f1_score(y_test, predictions, average='weighted')\n",
    "\n",
    "    print(f\"\\nEvaluation metrics for {model_name}:\")\n",
    "    print(f\"Accuracy: {accuracy:.4f}\")\n",
    "    print(f\"Precision: {precision:.4f}\")\n",
    "    print(f\"Recall: {recall:.4f}\")\n",
    "    print(f\"F1-score: {f1:.4f}\")"
   ]
  },
  {
   "cell_type": "code",
   "execution_count": 923,
   "id": "62627cc2",
   "metadata": {},
   "outputs": [
    {
     "name": "stderr",
     "output_type": "stream",
     "text": [
      "/Users/mahdi/anaconda3/lib/python3.10/site-packages/sklearn/metrics/_classification.py:1344: UndefinedMetricWarning: Precision is ill-defined and being set to 0.0 in labels with no predicted samples. Use `zero_division` parameter to control this behavior.\n",
      "  _warn_prf(average, modifier, msg_start, len(result))\n",
      "/Users/mahdi/anaconda3/lib/python3.10/site-packages/sklearn/metrics/_classification.py:1344: UndefinedMetricWarning: Precision is ill-defined and being set to 0.0 in labels with no predicted samples. Use `zero_division` parameter to control this behavior.\n",
      "  _warn_prf(average, modifier, msg_start, len(result))\n"
     ]
    }
   ],
   "source": [
    "f1_test_knn = f1_score(y_test, y_test_pred_knn, average='weighted')\n",
    "accuracy_test_knn = accuracy_score(y_test, y_test_pred_knn)\n",
    "precision_test_knn = precision_score(y_test, y_test_pred_knn, average='weighted')\n",
    "recall_test_knn = recall_score(y_test, y_test_pred_knn, average='weighted')\n",
    "\n",
    "f1_test_nb = f1_score(y_test, y_test_pred_nb, average='weighted')\n",
    "accuracy_test_nb = accuracy_score(y_test, y_test_pred_nb)\n",
    "precision_test_nb = precision_score(y_test, y_test_pred_nb, average='weighted')\n",
    "recall_test_nb = recall_score(y_test, y_test_pred_nb, average='weighted')\n",
    "\n",
    "f1_test_svm = f1_score(y_test, y_test_pred_svm, average='weighted')\n",
    "accuracy_test_svm = accuracy_score(y_test, y_test_pred_svm)\n",
    "precision_test_svm = precision_score(y_test, y_test_pred_svm, average='weighted')\n",
    "recall_test_svm = recall_score(y_test, y_test_pred_svm, average='weighted')\n",
    "\n",
    "f1_test_dt = f1_score(y_test, y_test_pred_dt, average='weighted')\n",
    "accuracy_test_dt = accuracy_score(y_test, y_test_pred_dt)\n",
    "precision_test_dt = precision_score(y_test, y_test_pred_dt, average='weighted')\n",
    "recall_test_dt = recall_score(y_test, y_test_pred_dt, average='weighted')"
   ]
  },
  {
   "cell_type": "code",
   "execution_count": 924,
   "id": "6597d719",
   "metadata": {},
   "outputs": [
    {
     "name": "stderr",
     "output_type": "stream",
     "text": [
      "/Users/mahdi/anaconda3/lib/python3.10/site-packages/sklearn/metrics/_classification.py:1344: UndefinedMetricWarning: Precision is ill-defined and being set to 0.0 in labels with no predicted samples. Use `zero_division` parameter to control this behavior.\n",
      "  _warn_prf(average, modifier, msg_start, len(result))\n",
      "/Users/mahdi/anaconda3/lib/python3.10/site-packages/sklearn/metrics/_classification.py:1344: UndefinedMetricWarning: Precision is ill-defined and being set to 0.0 in labels with no predicted samples. Use `zero_division` parameter to control this behavior.\n",
      "  _warn_prf(average, modifier, msg_start, len(result))\n"
     ]
    }
   ],
   "source": [
    "f1_train_knn = f1_score(y_train, y_train_pred_knn, average='weighted')\n",
    "accuracy_train_knn = accuracy_score(y_train, y_train_pred_knn)\n",
    "precision_train_knn = precision_score(y_train, y_train_pred_knn, average='weighted')\n",
    "recall_train_knn = recall_score(y_train, y_train_pred_knn, average='weighted')\n",
    "\n",
    "f1_train_nb = f1_score(y_train, y_train_pred_nb, average='weighted')\n",
    "accuracy_train_nb = accuracy_score(y_train, y_train_pred_nb)\n",
    "precision_train_nb = precision_score(y_train, y_train_pred_nb, average='weighted')\n",
    "recall_train_nb = recall_score(y_train, y_train_pred_nb, average='weighted')\n",
    "\n",
    "f1_train_svm = f1_score(y_train, y_train_pred_svm, average='weighted')\n",
    "accuracy_train_svm = accuracy_score(y_train, y_train_pred_svm)\n",
    "precision_train_svm = precision_score(y_train, y_train_pred_svm, average='weighted')\n",
    "recall_train_svm = recall_score(y_train, y_train_pred_svm, average='weighted')\n",
    "\n",
    "f1_train_dt = f1_score(y_train, y_train_pred_dt, average='weighted')\n",
    "accuracy_train_dt = accuracy_score(y_train, y_train_pred_dt)\n",
    "precision_train_dt = precision_score(y_train, y_train_pred_dt, average='weighted')\n",
    "recall_train_dt = recall_score(y_train, y_train_pred_dt, average='weighted')"
   ]
  },
  {
   "cell_type": "code",
   "execution_count": 925,
   "id": "7aba4cbf",
   "metadata": {},
   "outputs": [
    {
     "name": "stdout",
     "output_type": "stream",
     "text": [
      "KNN Metrics:\n",
      "Training set - F1: 0.64 Accuracy: 0.65 Precision: 0.65 Recall: 0.65\n",
      "Test set - F1: 0.44 Accuracy: 0.45 Precision: 0.45 Recall: 0.45\n",
      "\n",
      "Naive Bayes Metrics:\n",
      "Training set - F1: 0.32 Accuracy: 0.49 Precision: 0.24 Recall: 0.49\n",
      "Test set - F1: 0.39 Accuracy: 0.55 Precision: 0.30 Recall: 0.55\n",
      "\n",
      "SVM Metrics:\n",
      "Training set - F1: 0.32 Accuracy: 0.49 Precision: 0.24 Recall: 0.49\n",
      "Test set - F1: 0.39 Accuracy: 0.55 Precision: 0.30 Recall: 0.55\n",
      "\n",
      "Decision Tree Metrics:\n",
      "Training set - F1: 1.00 Accuracy: 1.00 Precision: 1.00 Recall: 1.00\n",
      "Test set - F1: 0.47 Accuracy: 0.47 Precision: 0.49 Recall: 0.47\n"
     ]
    }
   ],
   "source": [
    "print(\"KNN Metrics:\")\n",
    "print(\"Training set - F1: {:.2f}\".format(f1_train_knn), \"Accuracy: {:.2f}\".format(accuracy_train_knn), \"Precision: {:.2f}\".format(precision_train_knn), \"Recall: {:.2f}\".format(recall_train_knn))\n",
    "print(\"Test set - F1: {:.2f}\".format(f1_test_knn), \"Accuracy: {:.2f}\".format(accuracy_test_knn), \"Precision: {:.2f}\".format(precision_test_knn), \"Recall: {:.2f}\".format(recall_test_knn))\n",
    "\n",
    "print(\"\\nNaive Bayes Metrics:\")\n",
    "print(\"Training set - F1: {:.2f}\".format(f1_train_nb), \"Accuracy: {:.2f}\".format(accuracy_train_nb), \"Precision: {:.2f}\".format(precision_train_nb), \"Recall: {:.2f}\".format(recall_train_nb))\n",
    "print(\"Test set - F1: {:.2f}\".format(f1_test_nb), \"Accuracy: {:.2f}\".format(accuracy_test_nb), \"Precision: {:.2f}\".format(precision_test_nb), \"Recall: {:.2f}\".format(recall_test_nb))\n",
    "\n",
    "print(\"\\nSVM Metrics:\")\n",
    "print(\"Training set - F1: {:.2f}\".format(f1_train_svm), \"Accuracy: {:.2f}\".format(accuracy_train_svm), \"Precision: {:.2f}\".format(precision_train_svm), \"Recall: {:.2f}\".format(recall_train_svm))\n",
    "print(\"Test set - F1: {:.2f}\".format(f1_test_svm), \"Accuracy: {:.2f}\".format(accuracy_test_svm), \"Precision: {:.2f}\".format(precision_test_svm), \"Recall: {:.2f}\".format(recall_test_svm))\n",
    "\n",
    "print(\"\\nDecision Tree Metrics:\")\n",
    "print(\"Training set - F1: {:.2f}\".format(f1_train_dt), \"Accuracy: {:.2f}\".format(accuracy_train_dt), \"Precision: {:.2f}\".format(precision_train_dt), \"Recall: {:.2f}\".format(recall_train_dt))\n",
    "print(\"Test set - F1: {:.2f}\".format(f1_test_dt), \"Accuracy: {:.2f}\".format(accuracy_test_dt), \"Precision: {:.2f}\".format(precision_test_dt), \"Recall: {:.2f}\".format(recall_test_dt))"
   ]
  },
  {
   "cell_type": "markdown",
   "id": "0876352e",
   "metadata": {},
   "source": [
    "## Regression For Price "
   ]
  },
  {
   "cell_type": "code",
   "execution_count": 926,
   "id": "71e9fa14",
   "metadata": {},
   "outputs": [
    {
     "data": {
      "text/html": [
       "<div>\n",
       "<style scoped>\n",
       "    .dataframe tbody tr th:only-of-type {\n",
       "        vertical-align: middle;\n",
       "    }\n",
       "\n",
       "    .dataframe tbody tr th {\n",
       "        vertical-align: top;\n",
       "    }\n",
       "\n",
       "    .dataframe thead th {\n",
       "        text-align: right;\n",
       "    }\n",
       "</style>\n",
       "<table border=\"1\" class=\"dataframe\">\n",
       "  <thead>\n",
       "    <tr style=\"text-align: right;\">\n",
       "      <th></th>\n",
       "      <th>Date</th>\n",
       "      <th>adj_close_df1</th>\n",
       "      <th>adj_close_df2</th>\n",
       "      <th>adj_close_df3</th>\n",
       "      <th>adj_close_df4</th>\n",
       "      <th>value</th>\n",
       "      <th>price</th>\n",
       "    </tr>\n",
       "  </thead>\n",
       "  <tbody>\n",
       "    <tr>\n",
       "      <th>0</th>\n",
       "      <td>1427241600000000000</td>\n",
       "      <td>0.272331</td>\n",
       "      <td>51.43</td>\n",
       "      <td>1.090203</td>\n",
       "      <td>1205.1</td>\n",
       "      <td>62885.0</td>\n",
       "      <td>33930</td>\n",
       "    </tr>\n",
       "    <tr>\n",
       "      <th>1</th>\n",
       "      <td>1427673600000000000</td>\n",
       "      <td>0.272316</td>\n",
       "      <td>47.60</td>\n",
       "      <td>1.088495</td>\n",
       "      <td>1183.1</td>\n",
       "      <td>65175.1</td>\n",
       "      <td>33240</td>\n",
       "    </tr>\n",
       "    <tr>\n",
       "      <th>2</th>\n",
       "      <td>1427760000000000000</td>\n",
       "      <td>0.272316</td>\n",
       "      <td>50.09</td>\n",
       "      <td>1.083025</td>\n",
       "      <td>1208.1</td>\n",
       "      <td>65728.0</td>\n",
       "      <td>33070</td>\n",
       "    </tr>\n",
       "    <tr>\n",
       "      <th>3</th>\n",
       "      <td>1428278400000000000</td>\n",
       "      <td>0.272316</td>\n",
       "      <td>53.98</td>\n",
       "      <td>1.100134</td>\n",
       "      <td>1210.6</td>\n",
       "      <td>70843.9</td>\n",
       "      <td>32860</td>\n",
       "    </tr>\n",
       "    <tr>\n",
       "      <th>4</th>\n",
       "      <td>1428364800000000000</td>\n",
       "      <td>0.272324</td>\n",
       "      <td>50.42</td>\n",
       "      <td>1.093482</td>\n",
       "      <td>1203.1</td>\n",
       "      <td>70159.9</td>\n",
       "      <td>33140</td>\n",
       "    </tr>\n",
       "    <tr>\n",
       "      <th>...</th>\n",
       "      <td>...</td>\n",
       "      <td>...</td>\n",
       "      <td>...</td>\n",
       "      <td>...</td>\n",
       "      <td>...</td>\n",
       "      <td>...</td>\n",
       "      <td>...</td>\n",
       "    </tr>\n",
       "    <tr>\n",
       "      <th>992</th>\n",
       "      <td>1665446400000000000</td>\n",
       "      <td>0.272324</td>\n",
       "      <td>87.27</td>\n",
       "      <td>0.971006</td>\n",
       "      <td>1670.3</td>\n",
       "      <td>1313583.9</td>\n",
       "      <td>327520</td>\n",
       "    </tr>\n",
       "    <tr>\n",
       "      <th>993</th>\n",
       "      <td>1665532800000000000</td>\n",
       "      <td>0.272324</td>\n",
       "      <td>89.11</td>\n",
       "      <td>0.970017</td>\n",
       "      <td>1670.0</td>\n",
       "      <td>1319789.7</td>\n",
       "      <td>326510</td>\n",
       "    </tr>\n",
       "    <tr>\n",
       "      <th>994</th>\n",
       "      <td>1665964800000000000</td>\n",
       "      <td>0.272286</td>\n",
       "      <td>82.82</td>\n",
       "      <td>0.973937</td>\n",
       "      <td>1649.0</td>\n",
       "      <td>1311109.9</td>\n",
       "      <td>328620</td>\n",
       "    </tr>\n",
       "    <tr>\n",
       "      <th>995</th>\n",
       "      <td>1666051200000000000</td>\n",
       "      <td>0.272324</td>\n",
       "      <td>85.55</td>\n",
       "      <td>0.984640</td>\n",
       "      <td>1627.5</td>\n",
       "      <td>1312563.2</td>\n",
       "      <td>328390</td>\n",
       "    </tr>\n",
       "    <tr>\n",
       "      <th>996</th>\n",
       "      <td>1666137600000000000</td>\n",
       "      <td>0.272324</td>\n",
       "      <td>85.98</td>\n",
       "      <td>0.986388</td>\n",
       "      <td>1630.8</td>\n",
       "      <td>1310165.9</td>\n",
       "      <td>327970</td>\n",
       "    </tr>\n",
       "  </tbody>\n",
       "</table>\n",
       "<p>997 rows × 7 columns</p>\n",
       "</div>"
      ],
      "text/plain": [
       "                    Date  adj_close_df1  adj_close_df2  adj_close_df3  \\\n",
       "0    1427241600000000000       0.272331          51.43       1.090203   \n",
       "1    1427673600000000000       0.272316          47.60       1.088495   \n",
       "2    1427760000000000000       0.272316          50.09       1.083025   \n",
       "3    1428278400000000000       0.272316          53.98       1.100134   \n",
       "4    1428364800000000000       0.272324          50.42       1.093482   \n",
       "..                   ...            ...            ...            ...   \n",
       "992  1665446400000000000       0.272324          87.27       0.971006   \n",
       "993  1665532800000000000       0.272324          89.11       0.970017   \n",
       "994  1665964800000000000       0.272286          82.82       0.973937   \n",
       "995  1666051200000000000       0.272324          85.55       0.984640   \n",
       "996  1666137600000000000       0.272324          85.98       0.986388   \n",
       "\n",
       "     adj_close_df4      value   price  \n",
       "0           1205.1    62885.0   33930  \n",
       "1           1183.1    65175.1   33240  \n",
       "2           1208.1    65728.0   33070  \n",
       "3           1210.6    70843.9   32860  \n",
       "4           1203.1    70159.9   33140  \n",
       "..             ...        ...     ...  \n",
       "992         1670.3  1313583.9  327520  \n",
       "993         1670.0  1319789.7  326510  \n",
       "994         1649.0  1311109.9  328620  \n",
       "995         1627.5  1312563.2  328390  \n",
       "996         1630.8  1310165.9  327970  \n",
       "\n",
       "[997 rows x 7 columns]"
      ]
     },
     "execution_count": 926,
     "metadata": {},
     "output_type": "execute_result"
    }
   ],
   "source": [
    "merged_df.drop(['label'],axis=1)"
   ]
  },
  {
   "cell_type": "code",
   "execution_count": 927,
   "id": "537b604c",
   "metadata": {},
   "outputs": [],
   "source": [
    "X = merged_df.drop(['price'], axis=1)  # Features\n",
    "y = merged_df['price']  # Target variable"
   ]
  },
  {
   "cell_type": "code",
   "execution_count": 928,
   "id": "656d38ea",
   "metadata": {},
   "outputs": [],
   "source": [
    "X_train, X_test, y_train, y_test = train_test_split(X, y, test_size=0.2, random_state=42)"
   ]
  },
  {
   "cell_type": "code",
   "execution_count": 929,
   "id": "f7f4edee",
   "metadata": {},
   "outputs": [
    {
     "name": "stdout",
     "output_type": "stream",
     "text": [
      "R-squared: 0.9654\n"
     ]
    }
   ],
   "source": [
    "reg_model = LinearRegression()\n",
    "reg_model.fit(X_train, y_train)\n",
    "\n",
    "y_pred = reg_model.predict(X_test)\n",
    "\n",
    "r2 = r2_score(y_test, y_pred)\n",
    "\n",
    "print(f\"R-squared: {r2:.4f}\")"
   ]
  },
  {
   "cell_type": "markdown",
   "id": "4a1e3944",
   "metadata": {},
   "source": [
    "## Thanks"
   ]
  }
 ],
 "metadata": {
  "kernelspec": {
   "display_name": "Python 3 (ipykernel)",
   "language": "python",
   "name": "python3"
  },
  "language_info": {
   "codemirror_mode": {
    "name": "ipython",
    "version": 3
   },
   "file_extension": ".py",
   "mimetype": "text/x-python",
   "name": "python",
   "nbconvert_exporter": "python",
   "pygments_lexer": "ipython3",
   "version": "3.10.9"
  }
 },
 "nbformat": 4,
 "nbformat_minor": 5
}
